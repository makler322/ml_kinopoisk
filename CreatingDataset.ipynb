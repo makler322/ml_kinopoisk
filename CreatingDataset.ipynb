{
 "cells": [
  {
   "cell_type": "code",
   "execution_count": 20,
   "metadata": {},
   "outputs": [],
   "source": [
    "import os\n",
    "import pandas as pd"
   ]
  },
  {
   "cell_type": "code",
   "execution_count": 21,
   "metadata": {},
   "outputs": [],
   "source": [
    "directory='neg'"
   ]
  },
  {
   "cell_type": "code",
   "execution_count": 22,
   "metadata": {},
   "outputs": [],
   "source": [
    "files = os.listdir(directory)"
   ]
  },
  {
   "cell_type": "code",
   "execution_count": 23,
   "metadata": {},
   "outputs": [
    {
     "data": {
      "text/html": [
       "<div>\n",
       "<style scoped>\n",
       "    .dataframe tbody tr th:only-of-type {\n",
       "        vertical-align: middle;\n",
       "    }\n",
       "\n",
       "    .dataframe tbody tr th {\n",
       "        vertical-align: top;\n",
       "    }\n",
       "\n",
       "    .dataframe thead th {\n",
       "        text-align: right;\n",
       "    }\n",
       "</style>\n",
       "<table border=\"1\" class=\"dataframe\">\n",
       "  <thead>\n",
       "    <tr style=\"text-align: right;\">\n",
       "      <th></th>\n",
       "      <th>review</th>\n",
       "      <th>type</th>\n",
       "    </tr>\n",
       "  </thead>\n",
       "  <tbody>\n",
       "  </tbody>\n",
       "</table>\n",
       "</div>"
      ],
      "text/plain": [
       "Empty DataFrame\n",
       "Columns: [review, type]\n",
       "Index: []"
      ]
     },
     "execution_count": 23,
     "metadata": {},
     "output_type": "execute_result"
    }
   ],
   "source": [
    "df=pd.DataFrame(columns=['review','type'])\n",
    "df"
   ]
  },
  {
   "cell_type": "code",
   "execution_count": 24,
   "metadata": {},
   "outputs": [
    {
     "data": {
      "text/plain": [
       "'1000083-0.txt'"
      ]
     },
     "execution_count": 24,
     "metadata": {},
     "output_type": "execute_result"
    }
   ],
   "source": [
    "files[0]"
   ]
  },
  {
   "cell_type": "code",
   "execution_count": 25,
   "metadata": {},
   "outputs": [],
   "source": [
    "rew=[]\n",
    "for file in files:\n",
    "       f=open('neg/'+file,'r',encoding='utf-8')\n",
    "       x=f.read()\n",
    "       rew.append(x)"
   ]
  },
  {
   "cell_type": "code",
   "execution_count": 26,
   "metadata": {},
   "outputs": [
    {
     "data": {
      "text/plain": [
       "\"В 2003-ем году под руководством малоизвестного режиссёра Кларка Джонсона студия 'Columbia Pictures' решилась на полнометражную экранизацию сериала 'Спецназ' (в оригинале 'S.W.A.T.) с Сэмюелем Л. Джексоном и Колином Фарреллом в главных ролях. Лента собрала неплохую кассу, но отзывы критиков оказались смешанными. Тем не менее, спустя 7 лет был выпущен малобюджетный сиквел с Гэбриелом Махтом на сей раз. Фильм не нашёл множества откликов и посмотрело его небольшое количество зрителей (что объясняется не только низким бюджетом, но и качеством самой картины). И вот опять проходят те же 7 лет и на экраны отправляется третья часть в статусе 'мокбастера'. В главных ролях: Сэм Джагер (командир Трэвис Холл), Эдрианн Палики (инспектор Эллен Дуайр) и Майкл Джэй Уайт в роли таинственного преступника по кличке 'Скорпион'.\\n\\nДействие начинается с того, как командиру Трэвису Холлу и его группе приходит задание сопроводить чрезвычайно важный груз, за которым охотится могучая преступная организация. Внутри охраняемого фургона оказывается некто по кличке 'Скорпион' - он-то и должен стать мишенью для головорезов, ведь его познания криминального мира могут надолго запрятать главарей группировки за решётку. Как и ожидается, на бронированный фургон и его охрану стремительно начинается нападение, и Трэвису Холлу со всеми остальными приходится спрятаться в полицейском участке и раз за разом отражать атаки вооружённых бандитов. Неожиданно 'Скорпион' приходит на помощь командиру подразделения и указываем ему на то, что среди его приближённых действует 'крот'. Ведомый профессиональными чувствами и поддержкой 'Скорпиона' Трэвис Холл начинает круговую оборону...\\n\\nЗнающий поклонник полицейских боевик сразу узрит то, что в описанном сюжете есть что-то до боли знакомое. И окажется абсолютно прав: со всех уголков '...В осаде' будут сочиться знакомые эпизоды и художественные повороты, задействованные ещё в 1976-ом году Джоном Карпентером для ленты 'Нападение на 13-й участок'. Только постановщику 'Спецназа...' Тони Гиглио не хватило ни мастерства, ни таланта, чтобы хоть как-то приблизиться к качеству 'Нападения...' или его ремейку 2005-го года или хотя бы к французскому 'Осиному гнезду'. Всё, на что хватило создателей 'Спецназа...' - это дублировать сюжет классической ленты Карпентера, но делать это настолько плохо, что китайские дешёвые подделки смотрятся и то краше и лучше. Фильм шаблонный до изнеможения и любой зритель, видевший 'Нападение на 13-й участок' с двух нот предугадает развитие последующих событий.\\n\\nТони Гиглио явно не хватило бюджет (да и, возможно, способностей), чтобы хоть как-то презентабельно поставить динамику и экшн. Вроде бы он включил в картину и перестрелки со взрывами, про рукопашные схватки не позабыл, но поставлены они столь дремуче, что вызывают в лучшем случае зевоту. Гиглио поучиться бы у постановщиков схваток картины 'Неоспоримого', где из минимума выжали весь максимум. Сценаристы, несильно подключившие фантазию, а ставшие плагиаторами, не смогли толком даже внедрить интригу по поводу 'крота' в группе спецназа, он находится без телескопа 'Хаббл', настолько всё тривиально. Каким-то обезличенными предстали и актёры. Сэм Джагер, которому перепало в кои-то веки играть главную роль, только и смог, что доказал, что его место на телевидении, а в полном метре пока что только второстепенные персонажи. Эдрианн Палики - девушка, безусловно, красивая (журнал 'Maxim' редко ошибается), но с пистолетом она смотрится комично. Это же только в американских блокбастерах профессор биологии может быть с пятым размером груди. А Майкл Джэй Уайт сыграл сдержанно, как он это умеет, что показывал в фильме 'Никогда не сдавайся'.\\n\\nМожно ещё долго рассказывать о том, что полицейский боевик 'Спецназ: В осаде' - это крайне неудачное лекало со славноизвестного 'Нападения на 13-й участок', где экшн поставлен на низком уровне, сюжет - типичный плагиат, а актёры не добрались и до среднего уровня, но лучше бы, наверняка, было предостеречь потенциального зрителя от просмотра данного фильма и предложить посмотреть (или пересмотреть) всё то же 'Нападение...' или 'Осиное гнездо', если уж душа требует что-то типа 'герметичного боевика'.\\n\\n2 из 10\""
      ]
     },
     "execution_count": 26,
     "metadata": {},
     "output_type": "execute_result"
    }
   ],
   "source": [
    "rew[0]"
   ]
  },
  {
   "cell_type": "code",
   "execution_count": 27,
   "metadata": {},
   "outputs": [
    {
     "data": {
      "text/html": [
       "<div>\n",
       "<style scoped>\n",
       "    .dataframe tbody tr th:only-of-type {\n",
       "        vertical-align: middle;\n",
       "    }\n",
       "\n",
       "    .dataframe tbody tr th {\n",
       "        vertical-align: top;\n",
       "    }\n",
       "\n",
       "    .dataframe thead th {\n",
       "        text-align: right;\n",
       "    }\n",
       "</style>\n",
       "<table border=\"1\" class=\"dataframe\">\n",
       "  <thead>\n",
       "    <tr style=\"text-align: right;\">\n",
       "      <th></th>\n",
       "      <th>review</th>\n",
       "      <th>type</th>\n",
       "    </tr>\n",
       "  </thead>\n",
       "  <tbody>\n",
       "    <tr>\n",
       "      <th>0</th>\n",
       "      <td>В 2003-ем году под руководством малоизвестного...</td>\n",
       "      <td>-1</td>\n",
       "    </tr>\n",
       "    <tr>\n",
       "      <th>1</th>\n",
       "      <td>Грустно и печально. Грустно от того, что довол...</td>\n",
       "      <td>-1</td>\n",
       "    </tr>\n",
       "    <tr>\n",
       "      <th>2</th>\n",
       "      <td>Давным-давно Кира Найтли ворвалась на экран от...</td>\n",
       "      <td>-1</td>\n",
       "    </tr>\n",
       "    <tr>\n",
       "      <th>3</th>\n",
       "      <td>Я, в общем, ничего против уравновешенного феми...</td>\n",
       "      <td>-1</td>\n",
       "    </tr>\n",
       "    <tr>\n",
       "      <th>4</th>\n",
       "      <td>Измена — один из сюжетов, который всегда будет...</td>\n",
       "      <td>-1</td>\n",
       "    </tr>\n",
       "    <tr>\n",
       "      <th>...</th>\n",
       "      <td>...</td>\n",
       "      <td>...</td>\n",
       "    </tr>\n",
       "    <tr>\n",
       "      <th>19822</th>\n",
       "      <td>Теоретически 'Проект Флорида' можно назвать и ...</td>\n",
       "      <td>-1</td>\n",
       "    </tr>\n",
       "    <tr>\n",
       "      <th>19823</th>\n",
       "      <td>В некотором Царстве, в некотором Государстве, ...</td>\n",
       "      <td>-1</td>\n",
       "    </tr>\n",
       "    <tr>\n",
       "      <th>19824</th>\n",
       "      <td>Сюжет. Какой-то третьесортный отель, расположе...</td>\n",
       "      <td>-1</td>\n",
       "    </tr>\n",
       "    <tr>\n",
       "      <th>19825</th>\n",
       "      <td>Трое бандитов грабят инкассатор с золотыми сли...</td>\n",
       "      <td>-1</td>\n",
       "    </tr>\n",
       "    <tr>\n",
       "      <th>19826</th>\n",
       "      <td>В этом фильме все должно было быть просто прев...</td>\n",
       "      <td>-1</td>\n",
       "    </tr>\n",
       "  </tbody>\n",
       "</table>\n",
       "<p>19827 rows × 2 columns</p>\n",
       "</div>"
      ],
      "text/plain": [
       "                                                  review  type\n",
       "0      В 2003-ем году под руководством малоизвестного...    -1\n",
       "1      Грустно и печально. Грустно от того, что довол...    -1\n",
       "2      Давным-давно Кира Найтли ворвалась на экран от...    -1\n",
       "3      Я, в общем, ничего против уравновешенного феми...    -1\n",
       "4      Измена — один из сюжетов, который всегда будет...    -1\n",
       "...                                                  ...   ...\n",
       "19822  Теоретически 'Проект Флорида' можно назвать и ...    -1\n",
       "19823  В некотором Царстве, в некотором Государстве, ...    -1\n",
       "19824  Сюжет. Какой-то третьесортный отель, расположе...    -1\n",
       "19825  Трое бандитов грабят инкассатор с золотыми сли...    -1\n",
       "19826  В этом фильме все должно было быть просто прев...    -1\n",
       "\n",
       "[19827 rows x 2 columns]"
      ]
     },
     "execution_count": 27,
     "metadata": {},
     "output_type": "execute_result"
    }
   ],
   "source": [
    "df[\"review\"]=rew\n",
    "df[\"type\"]=-1\n",
    "df"
   ]
  },
  {
   "cell_type": "code",
   "execution_count": 29,
   "metadata": {},
   "outputs": [
    {
     "data": {
      "text/html": [
       "<div>\n",
       "<style scoped>\n",
       "    .dataframe tbody tr th:only-of-type {\n",
       "        vertical-align: middle;\n",
       "    }\n",
       "\n",
       "    .dataframe tbody tr th {\n",
       "        vertical-align: top;\n",
       "    }\n",
       "\n",
       "    .dataframe thead th {\n",
       "        text-align: right;\n",
       "    }\n",
       "</style>\n",
       "<table border=\"1\" class=\"dataframe\">\n",
       "  <thead>\n",
       "    <tr style=\"text-align: right;\">\n",
       "      <th></th>\n",
       "      <th>review</th>\n",
       "      <th>type</th>\n",
       "    </tr>\n",
       "  </thead>\n",
       "  <tbody>\n",
       "  </tbody>\n",
       "</table>\n",
       "</div>"
      ],
      "text/plain": [
       "Empty DataFrame\n",
       "Columns: [review, type]\n",
       "Index: []"
      ]
     },
     "execution_count": 29,
     "metadata": {},
     "output_type": "execute_result"
    }
   ],
   "source": [
    "df1=pd.DataFrame(columns=['review','type'])\n",
    "df1"
   ]
  },
  {
   "cell_type": "code",
   "execution_count": 30,
   "metadata": {},
   "outputs": [],
   "source": [
    "directory='neu'"
   ]
  },
  {
   "cell_type": "code",
   "execution_count": 31,
   "metadata": {},
   "outputs": [],
   "source": [
    "files = os.listdir(directory)"
   ]
  },
  {
   "cell_type": "code",
   "execution_count": 32,
   "metadata": {},
   "outputs": [],
   "source": [
    "rew=[]\n",
    "for file in files:\n",
    "       f=open('neu/'+file,'r',encoding='utf-8')\n",
    "       x=f.read()\n",
    "       rew.append(x)"
   ]
  },
  {
   "cell_type": "code",
   "execution_count": 34,
   "metadata": {},
   "outputs": [
    {
     "data": {
      "text/html": [
       "<div>\n",
       "<style scoped>\n",
       "    .dataframe tbody tr th:only-of-type {\n",
       "        vertical-align: middle;\n",
       "    }\n",
       "\n",
       "    .dataframe tbody tr th {\n",
       "        vertical-align: top;\n",
       "    }\n",
       "\n",
       "    .dataframe thead th {\n",
       "        text-align: right;\n",
       "    }\n",
       "</style>\n",
       "<table border=\"1\" class=\"dataframe\">\n",
       "  <thead>\n",
       "    <tr style=\"text-align: right;\">\n",
       "      <th></th>\n",
       "      <th>review</th>\n",
       "      <th>type</th>\n",
       "    </tr>\n",
       "  </thead>\n",
       "  <tbody>\n",
       "    <tr>\n",
       "      <th>0</th>\n",
       "      <td>Очередная французская комедия о свадьбе, котор...</td>\n",
       "      <td>0</td>\n",
       "    </tr>\n",
       "    <tr>\n",
       "      <th>1</th>\n",
       "      <td>Германия сразу после войны. Британский офицер ...</td>\n",
       "      <td>0</td>\n",
       "    </tr>\n",
       "    <tr>\n",
       "      <th>2</th>\n",
       "      <td>Реже всего на свете пишу рецензии на фильмы, н...</td>\n",
       "      <td>0</td>\n",
       "    </tr>\n",
       "    <tr>\n",
       "      <th>3</th>\n",
       "      <td>Примерно раз в сезон кинотеатры посещает что-т...</td>\n",
       "      <td>0</td>\n",
       "    </tr>\n",
       "    <tr>\n",
       "      <th>4</th>\n",
       "      <td>Зачастили как-то в последнее время кинематогра...</td>\n",
       "      <td>0</td>\n",
       "    </tr>\n",
       "    <tr>\n",
       "      <th>...</th>\n",
       "      <td>...</td>\n",
       "      <td>...</td>\n",
       "    </tr>\n",
       "    <tr>\n",
       "      <th>24699</th>\n",
       "      <td>'Проект Флорида' - так первоначально назывался...</td>\n",
       "      <td>0</td>\n",
       "    </tr>\n",
       "    <tr>\n",
       "      <th>24700</th>\n",
       "      <td>Вот уж правда писать отрицательный отзыв сложн...</td>\n",
       "      <td>0</td>\n",
       "    </tr>\n",
       "    <tr>\n",
       "      <th>24701</th>\n",
       "      <td>Пусть трупы позагорают – французский артхаусны...</td>\n",
       "      <td>0</td>\n",
       "    </tr>\n",
       "    <tr>\n",
       "      <th>24702</th>\n",
       "      <td>Фильм-открытка для сельского зрителя с побужья...</td>\n",
       "      <td>0</td>\n",
       "    </tr>\n",
       "    <tr>\n",
       "      <th>24703</th>\n",
       "      <td>Заключительная часть гексалогии Тому Утиды о л...</td>\n",
       "      <td>0</td>\n",
       "    </tr>\n",
       "  </tbody>\n",
       "</table>\n",
       "<p>24704 rows × 2 columns</p>\n",
       "</div>"
      ],
      "text/plain": [
       "                                                  review  type\n",
       "0      Очередная французская комедия о свадьбе, котор...     0\n",
       "1      Германия сразу после войны. Британский офицер ...     0\n",
       "2      Реже всего на свете пишу рецензии на фильмы, н...     0\n",
       "3      Примерно раз в сезон кинотеатры посещает что-т...     0\n",
       "4      Зачастили как-то в последнее время кинематогра...     0\n",
       "...                                                  ...   ...\n",
       "24699  'Проект Флорида' - так первоначально назывался...     0\n",
       "24700  Вот уж правда писать отрицательный отзыв сложн...     0\n",
       "24701  Пусть трупы позагорают – французский артхаусны...     0\n",
       "24702  Фильм-открытка для сельского зрителя с побужья...     0\n",
       "24703  Заключительная часть гексалогии Тому Утиды о л...     0\n",
       "\n",
       "[24704 rows x 2 columns]"
      ]
     },
     "execution_count": 34,
     "metadata": {},
     "output_type": "execute_result"
    }
   ],
   "source": [
    "df1[\"review\"]=rew\n",
    "df1[\"type\"]=0\n",
    "df1"
   ]
  },
  {
   "cell_type": "code",
   "execution_count": 35,
   "metadata": {},
   "outputs": [
    {
     "data": {
      "text/html": [
       "<div>\n",
       "<style scoped>\n",
       "    .dataframe tbody tr th:only-of-type {\n",
       "        vertical-align: middle;\n",
       "    }\n",
       "\n",
       "    .dataframe tbody tr th {\n",
       "        vertical-align: top;\n",
       "    }\n",
       "\n",
       "    .dataframe thead th {\n",
       "        text-align: right;\n",
       "    }\n",
       "</style>\n",
       "<table border=\"1\" class=\"dataframe\">\n",
       "  <thead>\n",
       "    <tr style=\"text-align: right;\">\n",
       "      <th></th>\n",
       "      <th>review</th>\n",
       "      <th>type</th>\n",
       "    </tr>\n",
       "  </thead>\n",
       "  <tbody>\n",
       "  </tbody>\n",
       "</table>\n",
       "</div>"
      ],
      "text/plain": [
       "Empty DataFrame\n",
       "Columns: [review, type]\n",
       "Index: []"
      ]
     },
     "execution_count": 35,
     "metadata": {},
     "output_type": "execute_result"
    }
   ],
   "source": [
    "df2=pd.DataFrame(columns=['review','type'])\n",
    "df2"
   ]
  },
  {
   "cell_type": "code",
   "execution_count": 36,
   "metadata": {},
   "outputs": [],
   "source": [
    "directory='pos'"
   ]
  },
  {
   "cell_type": "code",
   "execution_count": 37,
   "metadata": {},
   "outputs": [],
   "source": [
    "files = os.listdir(directory)"
   ]
  },
  {
   "cell_type": "code",
   "execution_count": 39,
   "metadata": {},
   "outputs": [],
   "source": [
    "rew=[]\n",
    "for file in files:\n",
    "       f=open('pos/'+file,'r',encoding='utf-8')\n",
    "       x=f.read()\n",
    "       rew.append(x)"
   ]
  },
  {
   "cell_type": "code",
   "execution_count": 40,
   "metadata": {},
   "outputs": [
    {
     "data": {
      "text/html": [
       "<div>\n",
       "<style scoped>\n",
       "    .dataframe tbody tr th:only-of-type {\n",
       "        vertical-align: middle;\n",
       "    }\n",
       "\n",
       "    .dataframe tbody tr th {\n",
       "        vertical-align: top;\n",
       "    }\n",
       "\n",
       "    .dataframe thead th {\n",
       "        text-align: right;\n",
       "    }\n",
       "</style>\n",
       "<table border=\"1\" class=\"dataframe\">\n",
       "  <thead>\n",
       "    <tr style=\"text-align: right;\">\n",
       "      <th></th>\n",
       "      <th>review</th>\n",
       "      <th>type</th>\n",
       "    </tr>\n",
       "  </thead>\n",
       "  <tbody>\n",
       "    <tr>\n",
       "      <th>0</th>\n",
       "      <td>Что делать, если любовница занимается организа...</td>\n",
       "      <td>1</td>\n",
       "    </tr>\n",
       "    <tr>\n",
       "      <th>1</th>\n",
       "      <td>Сюжет картины очень напоминает популярные амер...</td>\n",
       "      <td>1</td>\n",
       "    </tr>\n",
       "    <tr>\n",
       "      <th>2</th>\n",
       "      <td>Ребят, я только что из кинотеатра, в полном во...</td>\n",
       "      <td>1</td>\n",
       "    </tr>\n",
       "    <tr>\n",
       "      <th>3</th>\n",
       "      <td>Это кино прекрасно подойдёт для того, чтобы пр...</td>\n",
       "      <td>1</td>\n",
       "    </tr>\n",
       "    <tr>\n",
       "      <th>4</th>\n",
       "      <td>'Жених на двоих» - французская комедия о том, ...</td>\n",
       "      <td>1</td>\n",
       "    </tr>\n",
       "    <tr>\n",
       "      <th>...</th>\n",
       "      <td>...</td>\n",
       "      <td>...</td>\n",
       "    </tr>\n",
       "    <tr>\n",
       "      <th>87133</th>\n",
       "      <td>Это одна из самых впечатляющих дорам просмотре...</td>\n",
       "      <td>1</td>\n",
       "    </tr>\n",
       "    <tr>\n",
       "      <th>87134</th>\n",
       "      <td>До сих пор пребываю под огромным впечатлением ...</td>\n",
       "      <td>1</td>\n",
       "    </tr>\n",
       "    <tr>\n",
       "      <th>87135</th>\n",
       "      <td>Муза французского перверсиониста Мандико, - Ло...</td>\n",
       "      <td>1</td>\n",
       "    </tr>\n",
       "    <tr>\n",
       "      <th>87136</th>\n",
       "      <td>Как в капле воды отражается мир, так в этом фи...</td>\n",
       "      <td>1</td>\n",
       "    </tr>\n",
       "    <tr>\n",
       "      <th>87137</th>\n",
       "      <td>«Думаете, у меня есть время заниматься моим се...</td>\n",
       "      <td>1</td>\n",
       "    </tr>\n",
       "  </tbody>\n",
       "</table>\n",
       "<p>87138 rows × 2 columns</p>\n",
       "</div>"
      ],
      "text/plain": [
       "                                                  review  type\n",
       "0      Что делать, если любовница занимается организа...     1\n",
       "1      Сюжет картины очень напоминает популярные амер...     1\n",
       "2      Ребят, я только что из кинотеатра, в полном во...     1\n",
       "3      Это кино прекрасно подойдёт для того, чтобы пр...     1\n",
       "4      'Жених на двоих» - французская комедия о том, ...     1\n",
       "...                                                  ...   ...\n",
       "87133  Это одна из самых впечатляющих дорам просмотре...     1\n",
       "87134  До сих пор пребываю под огромным впечатлением ...     1\n",
       "87135  Муза французского перверсиониста Мандико, - Ло...     1\n",
       "87136  Как в капле воды отражается мир, так в этом фи...     1\n",
       "87137  «Думаете, у меня есть время заниматься моим се...     1\n",
       "\n",
       "[87138 rows x 2 columns]"
      ]
     },
     "execution_count": 40,
     "metadata": {},
     "output_type": "execute_result"
    }
   ],
   "source": [
    "df2[\"review\"]=rew\n",
    "df2[\"type\"]=1\n",
    "df2"
   ]
  },
  {
   "cell_type": "code",
   "execution_count": 43,
   "metadata": {},
   "outputs": [],
   "source": [
    "dataset=pd.concat([df,df1,df2],ignore_index=True)"
   ]
  },
  {
   "cell_type": "code",
   "execution_count": 44,
   "metadata": {},
   "outputs": [
    {
     "data": {
      "text/html": [
       "<div>\n",
       "<style scoped>\n",
       "    .dataframe tbody tr th:only-of-type {\n",
       "        vertical-align: middle;\n",
       "    }\n",
       "\n",
       "    .dataframe tbody tr th {\n",
       "        vertical-align: top;\n",
       "    }\n",
       "\n",
       "    .dataframe thead th {\n",
       "        text-align: right;\n",
       "    }\n",
       "</style>\n",
       "<table border=\"1\" class=\"dataframe\">\n",
       "  <thead>\n",
       "    <tr style=\"text-align: right;\">\n",
       "      <th></th>\n",
       "      <th>review</th>\n",
       "      <th>type</th>\n",
       "    </tr>\n",
       "  </thead>\n",
       "  <tbody>\n",
       "    <tr>\n",
       "      <th>0</th>\n",
       "      <td>В 2003-ем году под руководством малоизвестного...</td>\n",
       "      <td>-1</td>\n",
       "    </tr>\n",
       "    <tr>\n",
       "      <th>1</th>\n",
       "      <td>Грустно и печально. Грустно от того, что довол...</td>\n",
       "      <td>-1</td>\n",
       "    </tr>\n",
       "    <tr>\n",
       "      <th>2</th>\n",
       "      <td>Давным-давно Кира Найтли ворвалась на экран от...</td>\n",
       "      <td>-1</td>\n",
       "    </tr>\n",
       "    <tr>\n",
       "      <th>3</th>\n",
       "      <td>Я, в общем, ничего против уравновешенного феми...</td>\n",
       "      <td>-1</td>\n",
       "    </tr>\n",
       "    <tr>\n",
       "      <th>4</th>\n",
       "      <td>Измена — один из сюжетов, который всегда будет...</td>\n",
       "      <td>-1</td>\n",
       "    </tr>\n",
       "    <tr>\n",
       "      <th>...</th>\n",
       "      <td>...</td>\n",
       "      <td>...</td>\n",
       "    </tr>\n",
       "    <tr>\n",
       "      <th>131664</th>\n",
       "      <td>Это одна из самых впечатляющих дорам просмотре...</td>\n",
       "      <td>1</td>\n",
       "    </tr>\n",
       "    <tr>\n",
       "      <th>131665</th>\n",
       "      <td>До сих пор пребываю под огромным впечатлением ...</td>\n",
       "      <td>1</td>\n",
       "    </tr>\n",
       "    <tr>\n",
       "      <th>131666</th>\n",
       "      <td>Муза французского перверсиониста Мандико, - Ло...</td>\n",
       "      <td>1</td>\n",
       "    </tr>\n",
       "    <tr>\n",
       "      <th>131667</th>\n",
       "      <td>Как в капле воды отражается мир, так в этом фи...</td>\n",
       "      <td>1</td>\n",
       "    </tr>\n",
       "    <tr>\n",
       "      <th>131668</th>\n",
       "      <td>«Думаете, у меня есть время заниматься моим се...</td>\n",
       "      <td>1</td>\n",
       "    </tr>\n",
       "  </tbody>\n",
       "</table>\n",
       "<p>131669 rows × 2 columns</p>\n",
       "</div>"
      ],
      "text/plain": [
       "                                                   review  type\n",
       "0       В 2003-ем году под руководством малоизвестного...    -1\n",
       "1       Грустно и печально. Грустно от того, что довол...    -1\n",
       "2       Давным-давно Кира Найтли ворвалась на экран от...    -1\n",
       "3       Я, в общем, ничего против уравновешенного феми...    -1\n",
       "4       Измена — один из сюжетов, который всегда будет...    -1\n",
       "...                                                   ...   ...\n",
       "131664  Это одна из самых впечатляющих дорам просмотре...     1\n",
       "131665  До сих пор пребываю под огромным впечатлением ...     1\n",
       "131666  Муза французского перверсиониста Мандико, - Ло...     1\n",
       "131667  Как в капле воды отражается мир, так в этом фи...     1\n",
       "131668  «Думаете, у меня есть время заниматься моим се...     1\n",
       "\n",
       "[131669 rows x 2 columns]"
      ]
     },
     "execution_count": 44,
     "metadata": {},
     "output_type": "execute_result"
    }
   ],
   "source": [
    "dataset"
   ]
  },
  {
   "cell_type": "code",
   "execution_count": 56,
   "metadata": {},
   "outputs": [],
   "source": [
    "dataset=dataset.sample(frac=1).reset_index(drop=True)"
   ]
  },
  {
   "cell_type": "code",
   "execution_count": 57,
   "metadata": {},
   "outputs": [
    {
     "data": {
      "text/plain": [
       " 1    87138\n",
       " 0    24704\n",
       "-1    19827\n",
       "Name: type, dtype: int64"
      ]
     },
     "execution_count": 57,
     "metadata": {},
     "output_type": "execute_result"
    }
   ],
   "source": [
    "dataset[\"type\"].value_counts()"
   ]
  },
  {
   "cell_type": "code",
   "execution_count": 58,
   "metadata": {},
   "outputs": [],
   "source": [
    "dataset[[\"review\", \"type\"]].to_csv(\"kinopoisk.csv\", index=False)"
   ]
  },
  {
   "cell_type": "code",
   "execution_count": 59,
   "metadata": {},
   "outputs": [
    {
     "data": {
      "text/html": [
       "<div>\n",
       "<style scoped>\n",
       "    .dataframe tbody tr th:only-of-type {\n",
       "        vertical-align: middle;\n",
       "    }\n",
       "\n",
       "    .dataframe tbody tr th {\n",
       "        vertical-align: top;\n",
       "    }\n",
       "\n",
       "    .dataframe thead th {\n",
       "        text-align: right;\n",
       "    }\n",
       "</style>\n",
       "<table border=\"1\" class=\"dataframe\">\n",
       "  <thead>\n",
       "    <tr style=\"text-align: right;\">\n",
       "      <th></th>\n",
       "      <th>review</th>\n",
       "      <th>type</th>\n",
       "    </tr>\n",
       "  </thead>\n",
       "  <tbody>\n",
       "    <tr>\n",
       "      <th>0</th>\n",
       "      <td>Это моё мнение и мне без разницы сколько будет...</td>\n",
       "      <td>1</td>\n",
       "    </tr>\n",
       "    <tr>\n",
       "      <th>1</th>\n",
       "      <td>Вполне неплохое шоу, выгодно отличающееся от б...</td>\n",
       "      <td>1</td>\n",
       "    </tr>\n",
       "    <tr>\n",
       "      <th>2</th>\n",
       "      <td>Уж кто-кто, а российские специалисты 'умеют' с...</td>\n",
       "      <td>0</td>\n",
       "    </tr>\n",
       "    <tr>\n",
       "      <th>3</th>\n",
       "      <td>Нью-йоркский маргинал и, по совместительству –...</td>\n",
       "      <td>1</td>\n",
       "    </tr>\n",
       "    <tr>\n",
       "      <th>4</th>\n",
       "      <td>Есть такая категория фильмов, которые построен...</td>\n",
       "      <td>1</td>\n",
       "    </tr>\n",
       "    <tr>\n",
       "      <th>...</th>\n",
       "      <td>...</td>\n",
       "      <td>...</td>\n",
       "    </tr>\n",
       "    <tr>\n",
       "      <th>131664</th>\n",
       "      <td>Придя из кинотеатра, необходимо было переварит...</td>\n",
       "      <td>1</td>\n",
       "    </tr>\n",
       "    <tr>\n",
       "      <th>131665</th>\n",
       "      <td>Молодой парень Адонис Джонсон вырос в приёмной...</td>\n",
       "      <td>0</td>\n",
       "    </tr>\n",
       "    <tr>\n",
       "      <th>131666</th>\n",
       "      <td>На дворе 21 век. Мировой кинематограф заражён ...</td>\n",
       "      <td>-1</td>\n",
       "    </tr>\n",
       "    <tr>\n",
       "      <th>131667</th>\n",
       "      <td>Ну и ничего, что 70 % времени уделено молодому...</td>\n",
       "      <td>1</td>\n",
       "    </tr>\n",
       "    <tr>\n",
       "      <th>131668</th>\n",
       "      <td>К завязке не имею никаких претензий, пусть и с...</td>\n",
       "      <td>0</td>\n",
       "    </tr>\n",
       "  </tbody>\n",
       "</table>\n",
       "<p>131669 rows × 2 columns</p>\n",
       "</div>"
      ],
      "text/plain": [
       "                                                   review  type\n",
       "0       Это моё мнение и мне без разницы сколько будет...     1\n",
       "1       Вполне неплохое шоу, выгодно отличающееся от б...     1\n",
       "2       Уж кто-кто, а российские специалисты 'умеют' с...     0\n",
       "3       Нью-йоркский маргинал и, по совместительству –...     1\n",
       "4       Есть такая категория фильмов, которые построен...     1\n",
       "...                                                   ...   ...\n",
       "131664  Придя из кинотеатра, необходимо было переварит...     1\n",
       "131665  Молодой парень Адонис Джонсон вырос в приёмной...     0\n",
       "131666  На дворе 21 век. Мировой кинематограф заражён ...    -1\n",
       "131667  Ну и ничего, что 70 % времени уделено молодому...     1\n",
       "131668  К завязке не имею никаких претензий, пусть и с...     0\n",
       "\n",
       "[131669 rows x 2 columns]"
      ]
     },
     "execution_count": 59,
     "metadata": {},
     "output_type": "execute_result"
    }
   ],
   "source": [
    "data=pd.read_csv(\"kinopoisk.csv\")\n",
    "data"
   ]
  },
  {
   "cell_type": "code",
   "execution_count": null,
   "metadata": {},
   "outputs": [],
   "source": []
  }
 ],
 "metadata": {
  "kernelspec": {
   "display_name": "Python 3",
   "language": "python",
   "name": "python3"
  },
  "language_info": {
   "codemirror_mode": {
    "name": "ipython",
    "version": 3
   },
   "file_extension": ".py",
   "mimetype": "text/x-python",
   "name": "python",
   "nbconvert_exporter": "python",
   "pygments_lexer": "ipython3",
   "version": "3.8.6"
  }
 },
 "nbformat": 4,
 "nbformat_minor": 4
}
