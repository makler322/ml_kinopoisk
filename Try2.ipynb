{
 "cells": [
  {
   "cell_type": "code",
   "execution_count": 1,
   "metadata": {
    "colab": {
     "base_uri": "https://localhost:8080/"
    },
    "id": "RknAvmQGAweU",
    "outputId": "4fa2b360-d494-450f-9fa3-9831a1edf3b8"
   },
   "outputs": [],
   "source": [
    "import pandas as pd\n",
    "import matplotlib.pyplot as plt\n",
    "import numpy as np\n",
    "plt.style.use('ggplot')\n",
    "\n",
    "from sklearn.model_selection import train_test_split\n",
    "from sklearn.preprocessing  import LabelEncoder\n",
    "from sklearn.feature_extraction.text import TfidfVectorizer,CountVectorizer\n",
    "from sklearn.linear_model import SGDClassifier\n",
    "from sklearn.pipeline import Pipeline\n",
    "from sklearn.metrics import balanced_accuracy_score, accuracy_score ,mean_squared_error\n",
    "from collections import Counter\n",
    "import re\n",
    "import nltk\n",
    "\n",
    "import pymorphy2\n",
    "\n",
    "#import gensim"
   ]
  },
  {
   "cell_type": "code",
   "execution_count": 2,
   "metadata": {
    "colab": {
     "base_uri": "https://localhost:8080/",
     "height": 424
    },
    "id": "mqS3x4OdAwea",
    "outputId": "b11b5736-00ee-48fa-c009-1254c307fd4f"
   },
   "outputs": [],
   "source": [
    "\n",
    "data=pd.read_csv(\"irt.csv\")\n"
   ]
  },
  {
   "cell_type": "code",
   "execution_count": 3,
   "metadata": {
    "id": "aV7BQRvLA8Cf"
   },
   "outputs": [
    {
     "data": {
      "text/html": [
       "<div>\n",
       "<style scoped>\n",
       "    .dataframe tbody tr th:only-of-type {\n",
       "        vertical-align: middle;\n",
       "    }\n",
       "\n",
       "    .dataframe tbody tr th {\n",
       "        vertical-align: top;\n",
       "    }\n",
       "\n",
       "    .dataframe thead th {\n",
       "        text-align: right;\n",
       "    }\n",
       "</style>\n",
       "<table border=\"1\" class=\"dataframe\">\n",
       "  <thead>\n",
       "    <tr style=\"text-align: right;\">\n",
       "      <th></th>\n",
       "      <th>Unnamed: 0</th>\n",
       "      <th>lemmatized_review</th>\n",
       "      <th>type</th>\n",
       "    </tr>\n",
       "  </thead>\n",
       "  <tbody>\n",
       "    <tr>\n",
       "      <th>0</th>\n",
       "      <td>0</td>\n",
       "      <td>это мой мнение и я без разница сколько быть ми...</td>\n",
       "      <td>1</td>\n",
       "    </tr>\n",
       "    <tr>\n",
       "      <th>1</th>\n",
       "      <td>1</td>\n",
       "      <td>вполне неплохой шоу , выгодно отличаться от бо...</td>\n",
       "      <td>1</td>\n",
       "    </tr>\n",
       "    <tr>\n",
       "      <th>2</th>\n",
       "      <td>2</td>\n",
       "      <td>уж кто-кто , а российский специалист 'умеют ' ...</td>\n",
       "      <td>0</td>\n",
       "    </tr>\n",
       "    <tr>\n",
       "      <th>3</th>\n",
       "      <td>4</td>\n",
       "      <td>есть такой категория фильм , который построить...</td>\n",
       "      <td>1</td>\n",
       "    </tr>\n",
       "    <tr>\n",
       "      <th>4</th>\n",
       "      <td>5</td>\n",
       "      <td>из весь фильм про зомби просмотреных я , « дне...</td>\n",
       "      <td>1</td>\n",
       "    </tr>\n",
       "    <tr>\n",
       "      <th>...</th>\n",
       "      <td>...</td>\n",
       "      <td>...</td>\n",
       "      <td>...</td>\n",
       "    </tr>\n",
       "    <tr>\n",
       "      <th>128287</th>\n",
       "      <td>131664</td>\n",
       "      <td>прийти из кинотеатр , необходимо быть перевари...</td>\n",
       "      <td>1</td>\n",
       "    </tr>\n",
       "    <tr>\n",
       "      <th>128288</th>\n",
       "      <td>131665</td>\n",
       "      <td>молодой парень адонис джонсон вырасти в приёмн...</td>\n",
       "      <td>0</td>\n",
       "    </tr>\n",
       "    <tr>\n",
       "      <th>128289</th>\n",
       "      <td>131666</td>\n",
       "      <td>на двор 21 век . мировой кинематограф заразить...</td>\n",
       "      <td>-1</td>\n",
       "    </tr>\n",
       "    <tr>\n",
       "      <th>128290</th>\n",
       "      <td>131667</td>\n",
       "      <td>ну и ничего , что 70 % время уделить молодой м...</td>\n",
       "      <td>1</td>\n",
       "    </tr>\n",
       "    <tr>\n",
       "      <th>128291</th>\n",
       "      <td>131668</td>\n",
       "      <td>к завязка не иметь никакой претензия , пусть и...</td>\n",
       "      <td>0</td>\n",
       "    </tr>\n",
       "  </tbody>\n",
       "</table>\n",
       "<p>128292 rows × 3 columns</p>\n",
       "</div>"
      ],
      "text/plain": [
       "        Unnamed: 0                                  lemmatized_review  type\n",
       "0                0  это мой мнение и я без разница сколько быть ми...     1\n",
       "1                1  вполне неплохой шоу , выгодно отличаться от бо...     1\n",
       "2                2  уж кто-кто , а российский специалист 'умеют ' ...     0\n",
       "3                4  есть такой категория фильм , который построить...     1\n",
       "4                5  из весь фильм про зомби просмотреных я , « дне...     1\n",
       "...            ...                                                ...   ...\n",
       "128287      131664  прийти из кинотеатр , необходимо быть перевари...     1\n",
       "128288      131665  молодой парень адонис джонсон вырасти в приёмн...     0\n",
       "128289      131666  на двор 21 век . мировой кинематограф заразить...    -1\n",
       "128290      131667  ну и ничего , что 70 % время уделить молодой м...     1\n",
       "128291      131668  к завязка не иметь никакой претензия , пусть и...     0\n",
       "\n",
       "[128292 rows x 3 columns]"
      ]
     },
     "execution_count": 3,
     "metadata": {},
     "output_type": "execute_result"
    }
   ],
   "source": [
    "data"
   ]
  },
  {
   "cell_type": "code",
   "execution_count": 4,
   "metadata": {
    "id": "ddMDh5OiAwec"
   },
   "outputs": [
    {
     "data": {
      "text/plain": [
       "['это',\n",
       " 'мой',\n",
       " 'мнение',\n",
       " 'и',\n",
       " 'я',\n",
       " 'без',\n",
       " 'разница',\n",
       " 'сколько',\n",
       " 'быть',\n",
       " 'минус',\n",
       " 'я',\n",
       " 'мочь',\n",
       " 'сказать',\n",
       " 'только',\n",
       " 'один',\n",
       " 'вкратце',\n",
       " 'фассбендер',\n",
       " 'как',\n",
       " 'холл',\n",
       " 'увы',\n",
       " 'не',\n",
       " 'то',\n",
       " 'пальто',\n",
       " 'на',\n",
       " 'уровень',\n",
       " 'как',\n",
       " 'и',\n",
       " 'джессика',\n",
       " 'альба',\n",
       " 'из',\n",
       " 'город',\n",
       " 'грех',\n",
       " 'часть',\n",
       " 'книжный',\n",
       " 'холл',\n",
       " 'иметь',\n",
       " 'более',\n",
       " 'глубокий',\n",
       " 'характер',\n",
       " 'и',\n",
       " 'прилично',\n",
       " 'скелет',\n",
       " 'в',\n",
       " 'шкаф',\n",
       " 'в',\n",
       " 'отличие',\n",
       " 'от',\n",
       " 'экранизировать',\n",
       " 'снеговик',\n",
       " 'видно',\n",
       " 'получиться',\n",
       " 'обрезать',\n",
       " 'и',\n",
       " 'недоделать',\n",
       " 'но',\n",
       " 'все',\n",
       " 'таки',\n",
       " 'за',\n",
       " 'смелый',\n",
       " 'попытка',\n",
       " 'так',\n",
       " 'экранизировать',\n",
       " 'не',\n",
       " 'сам',\n",
       " 'хороший',\n",
       " 'режиссер',\n",
       " 'респект',\n",
       " 'однозначно',\n",
       " 'как',\n",
       " 'всегда',\n",
       " 'продюсер',\n",
       " 'и',\n",
       " 'студийный',\n",
       " 'босс',\n",
       " 'напарашили',\n",
       " 'а',\n",
       " 'мочь',\n",
       " 'бы',\n",
       " 'получиться',\n",
       " 'один',\n",
       " 'из',\n",
       " 'потрясать',\n",
       " 'и',\n",
       " 'атмосферный',\n",
       " 'детективный',\n",
       " 'драма',\n",
       " 'последний',\n",
       " 'год',\n",
       " 'но',\n",
       " 'увы',\n",
       " 'не',\n",
       " 'судьба',\n",
       " 'у',\n",
       " 'книга',\n",
       " 'как',\n",
       " 'и',\n",
       " 'у',\n",
       " 'фильм',\n",
       " 'сюжет',\n",
       " 'очень',\n",
       " 'простой',\n",
       " 'но',\n",
       " 'благодаря',\n",
       " 'свой',\n",
       " 'холодный',\n",
       " 'атмосфера',\n",
       " 'он',\n",
       " 'способный',\n",
       " 'затянуть',\n",
       " 'вы',\n",
       " 'туда',\n",
       " 'и',\n",
       " 'не',\n",
       " 'выпускать',\n",
       " 'до',\n",
       " 'конец',\n",
       " 'атмосфера',\n",
       " 'потрясать',\n",
       " 'что',\n",
       " 'у',\n",
       " 'книга',\n",
       " 'что',\n",
       " 'у',\n",
       " 'экранизация',\n",
       " 'но',\n",
       " 'увы',\n",
       " 'у',\n",
       " 'экранизация',\n",
       " 'какой',\n",
       " 'она',\n",
       " 'выйти',\n",
       " 'не',\n",
       " 'хватать',\n",
       " 'большой',\n",
       " 'раскрытие',\n",
       " 'персонаж',\n",
       " 'да',\n",
       " 'и',\n",
       " 'концовка',\n",
       " 'у',\n",
       " 'данный',\n",
       " 'фильм',\n",
       " 'в',\n",
       " 'стиль',\n",
       " 'какой',\n",
       " 'да',\n",
       " 'нибудь',\n",
       " 'сериал',\n",
       " 'среднее',\n",
       " 'бюджет',\n",
       " 'слишком',\n",
       " 'простой',\n",
       " 'и',\n",
       " 'пустой',\n",
       " 'так',\n",
       " 'же',\n",
       " 'я',\n",
       " 'понравиться',\n",
       " 'медленный',\n",
       " 'темп',\n",
       " 'картина',\n",
       " 'возможно',\n",
       " 'я',\n",
       " 'любитель',\n",
       " 'медленный',\n",
       " 'картина',\n",
       " 'поэтому',\n",
       " 'я',\n",
       " 'очень',\n",
       " 'хорошо',\n",
       " 'проникнуться',\n",
       " 'холодный',\n",
       " 'атмосфера',\n",
       " 'норвегия',\n",
       " 'много',\n",
       " 'к',\n",
       " 'сожаление',\n",
       " 'важный',\n",
       " 'сцена',\n",
       " 'не',\n",
       " 'войти',\n",
       " 'из',\n",
       " 'книга',\n",
       " 'а',\n",
       " 'ведь',\n",
       " 'они',\n",
       " 'очень',\n",
       " 'мочь',\n",
       " 'бы',\n",
       " 'изменить',\n",
       " 'сюжет',\n",
       " 'и',\n",
       " 'держать',\n",
       " 'более',\n",
       " 'менее',\n",
       " 'интрига',\n",
       " 'но',\n",
       " 'убийца',\n",
       " 'очень',\n",
       " 'легко',\n",
       " 'угадываться',\n",
       " 'я',\n",
       " 'понравиться',\n",
       " 'актерский',\n",
       " 'игра',\n",
       " 'хоть',\n",
       " 'и',\n",
       " 'фассбендеру',\n",
       " 'далеко',\n",
       " 'до',\n",
       " 'тот',\n",
       " 'же',\n",
       " 'макэвоя',\n",
       " 'но',\n",
       " 'однозначно',\n",
       " 'зачет',\n",
       " 'ребекка',\n",
       " 'фергюсон',\n",
       " 'тоже',\n",
       " 'умничка',\n",
       " 'и',\n",
       " 'много',\n",
       " 'другой',\n",
       " 'актер',\n",
       " 'особенно',\n",
       " 'порадовать',\n",
       " 'вести',\n",
       " 'килмер',\n",
       " 'который',\n",
       " 'похудеть',\n",
       " 'нехило',\n",
       " 'то',\n",
       " 'так',\n",
       " 'но',\n",
       " 'и',\n",
       " 'постарелый',\n",
       " 'про',\n",
       " 'музыка',\n",
       " 'я',\n",
       " 'не',\n",
       " 'мочь',\n",
       " 'ничего',\n",
       " 'сказать',\n",
       " 'ее',\n",
       " 'почти',\n",
       " 'нет',\n",
       " 'тут',\n",
       " 'в',\n",
       " 'основное',\n",
       " 'но',\n",
       " 'это',\n",
       " 'не',\n",
       " 'делать',\n",
       " 'фильм',\n",
       " 'плохой',\n",
       " 'а',\n",
       " 'наоборот',\n",
       " 'хорошо',\n",
       " 'вгонять',\n",
       " 'в',\n",
       " 'атмосфера',\n",
       " 'операторский',\n",
       " 'работа',\n",
       " 'я',\n",
       " 'очень',\n",
       " 'понравиться',\n",
       " 'а',\n",
       " 'ну',\n",
       " 'ка',\n",
       " 'да',\n",
       " 'это',\n",
       " 'же',\n",
       " 'дион',\n",
       " 'биби',\n",
       " 'он',\n",
       " 'же',\n",
       " 'оператор',\n",
       " 'эквилибриума',\n",
       " 'и',\n",
       " 'грань',\n",
       " 'будущего',\n",
       " 'ну',\n",
       " 'теперь',\n",
       " 'ясно',\n",
       " 'понятно',\n",
       " 'порекомендовать',\n",
       " 'посмотреть',\n",
       " 'любитель',\n",
       " 'драма',\n",
       " 'с',\n",
       " 'щепотка',\n",
       " 'детектив',\n",
       " 'а',\n",
       " 'особенно',\n",
       " 'любитель',\n",
       " 'медленный',\n",
       " 'европейский',\n",
       " 'кино',\n",
       " 'с',\n",
       " 'леденящий',\n",
       " 'атмосферой',\n",
       " 'вы',\n",
       " 'мочь',\n",
       " 'и',\n",
       " 'понравиться',\n",
       " 'у',\n",
       " 'каждый',\n",
       " 'свой',\n",
       " 'мнение',\n",
       " 'но',\n",
       " 'сказать',\n",
       " 'только',\n",
       " 'одно',\n",
       " 'посмотреть',\n",
       " 'и',\n",
       " 'посмотреть',\n",
       " 'не',\n",
       " 'посмотрите',\n",
       " 'ничего',\n",
       " 'не',\n",
       " 'потерять',\n",
       " 'из',\n",
       " 1]"
      ]
     },
     "execution_count": 4,
     "metadata": {},
     "output_type": "execute_result"
    }
   ],
   "source": [
    "def tokenize(text):\n",
    "    text = text.lower().replace('ё', 'е')\n",
    "    return re.findall(\"[а-яё]+\", text)\n",
    "\n",
    "reviews=data[\"lemmatized_review\"].values\n",
    "\n",
    "\n",
    "list_of_words=[tokenize(review) for review in reviews ]\n",
    "for i in range(len(list_of_words)):\n",
    "    list_of_words[i].append(data['type'][i])\n",
    "list_of_words[0]"
   ]
  },
  {
   "cell_type": "code",
   "execution_count": 5,
   "metadata": {
    "colab": {
     "base_uri": "https://localhost:8080/"
    },
    "id": "6n1hb7EbAwec",
    "outputId": "189c59e9-0a99-48f3-f923-a79879f016af"
   },
   "outputs": [
    {
     "data": {
      "text/plain": [
       " 1    84782\n",
       " 0    24161\n",
       "-1    19349\n",
       "Name: type, dtype: int64"
      ]
     },
     "execution_count": 5,
     "metadata": {},
     "output_type": "execute_result"
    }
   ],
   "source": [
    "data[\"type\"].value_counts()"
   ]
  },
  {
   "cell_type": "code",
   "execution_count": 6,
   "metadata": {
    "colab": {
     "base_uri": "https://localhost:8080/",
     "height": 282
    },
    "id": "khi35MvnAwed",
    "outputId": "b0b561da-320f-49c1-aa76-20cc9d33307e"
   },
   "outputs": [
    {
     "data": {
      "text/plain": [
       "<AxesSubplot:>"
      ]
     },
     "execution_count": 6,
     "metadata": {},
     "output_type": "execute_result"
    },
    {
     "data": {
      "image/png": "[encoded data removed]",
      "text/plain": [
       "<Figure size 432x288 with 1 Axes>"
      ]
     },
     "metadata": {},
     "output_type": "display_data"
    }
   ],
   "source": [
    "data.lemmatized_review.str.len().hist(bins=200)"
   ]
  },
  {
   "cell_type": "markdown",
   "metadata": {
    "id": "tRefVJHqAwee"
   },
   "source": [
    "Отличаются ли рецензии разной тональности длиной?"
   ]
  },
  {
   "cell_type": "code",
   "execution_count": 7,
   "metadata": {
    "colab": {
     "base_uri": "https://localhost:8080/",
     "height": 282
    },
    "id": "Ja4KxPMZAwef",
    "outputId": "24f722af-f6e0-4fc1-f697-00c1265290b7"
   },
   "outputs": [
    {
     "data": {
      "text/plain": [
       "<AxesSubplot:>"
      ]
     },
     "execution_count": 7,
     "metadata": {},
     "output_type": "execute_result"
    },
    {
     "data": {
      "image/png": "[encoded data removed]",
      "text/plain": [
       "<Figure size 432x288 with 1 Axes>"
      ]
     },
     "metadata": {},
     "output_type": "display_data"
    }
   ],
   "source": [
    "pos_data=data[data[\"type\"]==1]\n",
    "pos_data.lemmatized_review.str.len().hist(bins=200)"
   ]
  },
  {
   "cell_type": "code",
   "execution_count": 8,
   "metadata": {
    "colab": {
     "base_uri": "https://localhost:8080/",
     "height": 282
    },
    "id": "G_nH_DHKAwef",
    "outputId": "6f31100d-34c6-479a-ecb8-ad3c69e19cd4"
   },
   "outputs": [
    {
     "data": {
      "text/plain": [
       "<AxesSubplot:>"
      ]
     },
     "execution_count": 8,
     "metadata": {},
     "output_type": "execute_result"
    },
    {
     "data": {
      "image/png": "[encoded data removed]",
      "text/plain": [
       "<Figure size 432x288 with 1 Axes>"
      ]
     },
     "metadata": {},
     "output_type": "display_data"
    }
   ],
   "source": [
    "neu_data=data[data[\"type\"]==0]\n",
    "neu_data.lemmatized_review.str.len().hist(bins=200)"
   ]
  },
  {
   "cell_type": "code",
   "execution_count": 9,
   "metadata": {
    "colab": {
     "base_uri": "https://localhost:8080/",
     "height": 282
    },
    "id": "eU_kCg6yAweh",
    "outputId": "e35ba55d-1996-4e97-ca6c-e319d067cf88",
    "scrolled": true
   },
   "outputs": [
    {
     "data": {
      "text/plain": [
       "<AxesSubplot:>"
      ]
     },
     "execution_count": 9,
     "metadata": {},
     "output_type": "execute_result"
    },
    {
     "data": {
      "image/png": "[encoded data removed]",
      "text/plain": [
       "<Figure size 432x288 with 1 Axes>"
      ]
     },
     "metadata": {},
     "output_type": "display_data"
    }
   ],
   "source": [
    "neg_data=data[data[\"type\"]==-1]\n",
    "neg_data.lemmatized_review.str.len().hist(bins=200)"
   ]
  },
  {
   "cell_type": "markdown",
   "metadata": {
    "id": "fXG-kUgBAweh"
   },
   "source": [
    "Посмотрим на самые частые слова/сочетания слов."
   ]
  },
  {
   "cell_type": "code",
   "execution_count": 10,
   "metadata": {
    "id": "E_dVnAwuAweh"
   },
   "outputs": [
    {
     "data": {
      "text/plain": [
       "['это',\n",
       " 'мой',\n",
       " 'мнение',\n",
       " 'и',\n",
       " 'я',\n",
       " 'без',\n",
       " 'разница',\n",
       " 'сколько',\n",
       " 'быть',\n",
       " 'минус',\n",
       " 'я',\n",
       " 'мочь',\n",
       " 'сказать',\n",
       " 'только',\n",
       " 'один',\n",
       " 'вкратце',\n",
       " 'фассбендер',\n",
       " 'как',\n",
       " 'холл',\n",
       " 'увы',\n",
       " 'не',\n",
       " 'то',\n",
       " 'пальто',\n",
       " 'на',\n",
       " 'уровень',\n",
       " 'как',\n",
       " 'и',\n",
       " 'джессика',\n",
       " 'альба',\n",
       " 'из',\n",
       " 'город',\n",
       " 'грех',\n",
       " 'часть',\n",
       " 'книжный',\n",
       " 'холл',\n",
       " 'иметь',\n",
       " 'более',\n",
       " 'глубокий',\n",
       " 'характер',\n",
       " 'и',\n",
       " 'прилично',\n",
       " 'скелет',\n",
       " 'в',\n",
       " 'шкаф',\n",
       " 'в',\n",
       " 'отличие',\n",
       " 'от',\n",
       " 'экранизировать',\n",
       " 'снеговик',\n",
       " 'видно',\n",
       " 'получиться',\n",
       " 'обрезать',\n",
       " 'и',\n",
       " 'недоделать',\n",
       " 'но',\n",
       " 'все',\n",
       " 'таки',\n",
       " 'за',\n",
       " 'смелый',\n",
       " 'попытка',\n",
       " 'так',\n",
       " 'экранизировать',\n",
       " 'не',\n",
       " 'сам',\n",
       " 'хороший',\n",
       " 'режиссер',\n",
       " 'респект',\n",
       " 'однозначно',\n",
       " 'как',\n",
       " 'всегда',\n",
       " 'продюсер',\n",
       " 'и',\n",
       " 'студийный',\n",
       " 'босс',\n",
       " 'напарашили',\n",
       " 'а',\n",
       " 'мочь',\n",
       " 'бы',\n",
       " 'получиться',\n",
       " 'один',\n",
       " 'из',\n",
       " 'потрясать',\n",
       " 'и',\n",
       " 'атмосферный',\n",
       " 'детективный',\n",
       " 'драма',\n",
       " 'последний',\n",
       " 'год',\n",
       " 'но',\n",
       " 'увы',\n",
       " 'не',\n",
       " 'судьба',\n",
       " 'у',\n",
       " 'книга',\n",
       " 'как',\n",
       " 'и',\n",
       " 'у',\n",
       " 'фильм',\n",
       " 'сюжет',\n",
       " 'очень',\n",
       " 'простой',\n",
       " 'но',\n",
       " 'благодаря',\n",
       " 'свой',\n",
       " 'холодный',\n",
       " 'атмосфера',\n",
       " 'он',\n",
       " 'способный',\n",
       " 'затянуть',\n",
       " 'вы',\n",
       " 'туда',\n",
       " 'и',\n",
       " 'не',\n",
       " 'выпускать',\n",
       " 'до',\n",
       " 'конец',\n",
       " 'атмосфера',\n",
       " 'потрясать',\n",
       " 'что',\n",
       " 'у',\n",
       " 'книга',\n",
       " 'что',\n",
       " 'у',\n",
       " 'экранизация',\n",
       " 'но',\n",
       " 'увы',\n",
       " 'у',\n",
       " 'экранизация',\n",
       " 'какой',\n",
       " 'она',\n",
       " 'выйти',\n",
       " 'не',\n",
       " 'хватать',\n",
       " 'большой',\n",
       " 'раскрытие',\n",
       " 'персонаж',\n",
       " 'да',\n",
       " 'и',\n",
       " 'концовка',\n",
       " 'у',\n",
       " 'данный',\n",
       " 'фильм',\n",
       " 'в',\n",
       " 'стиль',\n",
       " 'какой',\n",
       " 'да',\n",
       " 'нибудь',\n",
       " 'сериал',\n",
       " 'среднее',\n",
       " 'бюджет',\n",
       " 'слишком',\n",
       " 'простой',\n",
       " 'и',\n",
       " 'пустой',\n",
       " 'так',\n",
       " 'же',\n",
       " 'я',\n",
       " 'понравиться',\n",
       " 'медленный',\n",
       " 'темп',\n",
       " 'картина',\n",
       " 'возможно',\n",
       " 'я',\n",
       " 'любитель',\n",
       " 'медленный',\n",
       " 'картина',\n",
       " 'поэтому',\n",
       " 'я',\n",
       " 'очень',\n",
       " 'хорошо',\n",
       " 'проникнуться',\n",
       " 'холодный',\n",
       " 'атмосфера',\n",
       " 'норвегия',\n",
       " 'много',\n",
       " 'к',\n",
       " 'сожаление',\n",
       " 'важный',\n",
       " 'сцена',\n",
       " 'не',\n",
       " 'войти',\n",
       " 'из',\n",
       " 'книга',\n",
       " 'а',\n",
       " 'ведь',\n",
       " 'они',\n",
       " 'очень',\n",
       " 'мочь',\n",
       " 'бы',\n",
       " 'изменить',\n",
       " 'сюжет',\n",
       " 'и',\n",
       " 'держать',\n",
       " 'более',\n",
       " 'менее',\n",
       " 'интрига',\n",
       " 'но',\n",
       " 'убийца',\n",
       " 'очень',\n",
       " 'легко',\n",
       " 'угадываться',\n",
       " 'я',\n",
       " 'понравиться',\n",
       " 'актерский',\n",
       " 'игра',\n",
       " 'хоть',\n",
       " 'и',\n",
       " 'фассбендеру',\n",
       " 'далеко',\n",
       " 'до',\n",
       " 'тот',\n",
       " 'же',\n",
       " 'макэвоя',\n",
       " 'но',\n",
       " 'однозначно',\n",
       " 'зачет',\n",
       " 'ребекка',\n",
       " 'фергюсон',\n",
       " 'тоже',\n",
       " 'умничка',\n",
       " 'и',\n",
       " 'много',\n",
       " 'другой',\n",
       " 'актер',\n",
       " 'особенно',\n",
       " 'порадовать',\n",
       " 'вести',\n",
       " 'килмер',\n",
       " 'который',\n",
       " 'похудеть',\n",
       " 'нехило',\n",
       " 'то',\n",
       " 'так',\n",
       " 'но',\n",
       " 'и',\n",
       " 'постарелый',\n",
       " 'про',\n",
       " 'музыка',\n",
       " 'я',\n",
       " 'не',\n",
       " 'мочь',\n",
       " 'ничего',\n",
       " 'сказать',\n",
       " 'ее',\n",
       " 'почти',\n",
       " 'нет',\n",
       " 'тут',\n",
       " 'в',\n",
       " 'основное',\n",
       " 'но',\n",
       " 'это',\n",
       " 'не',\n",
       " 'делать',\n",
       " 'фильм',\n",
       " 'плохой',\n",
       " 'а',\n",
       " 'наоборот',\n",
       " 'хорошо',\n",
       " 'вгонять',\n",
       " 'в',\n",
       " 'атмосфера',\n",
       " 'операторский',\n",
       " 'работа',\n",
       " 'я',\n",
       " 'очень',\n",
       " 'понравиться',\n",
       " 'а',\n",
       " 'ну',\n",
       " 'ка',\n",
       " 'да',\n",
       " 'это',\n",
       " 'же',\n",
       " 'дион',\n",
       " 'биби',\n",
       " 'он',\n",
       " 'же',\n",
       " 'оператор',\n",
       " 'эквилибриума',\n",
       " 'и',\n",
       " 'грань',\n",
       " 'будущего',\n",
       " 'ну',\n",
       " 'теперь',\n",
       " 'ясно',\n",
       " 'понятно',\n",
       " 'порекомендовать',\n",
       " 'посмотреть',\n",
       " 'любитель',\n",
       " 'драма',\n",
       " 'с',\n",
       " 'щепотка',\n",
       " 'детектив',\n",
       " 'а',\n",
       " 'особенно',\n",
       " 'любитель',\n",
       " 'медленный',\n",
       " 'европейский',\n",
       " 'кино',\n",
       " 'с',\n",
       " 'леденящий',\n",
       " 'атмосферой',\n",
       " 'вы',\n",
       " 'мочь',\n",
       " 'и',\n",
       " 'понравиться',\n",
       " 'у',\n",
       " 'каждый',\n",
       " 'свой',\n",
       " 'мнение',\n",
       " 'но',\n",
       " 'сказать',\n",
       " 'только',\n",
       " 'одно',\n",
       " 'посмотреть',\n",
       " 'и',\n",
       " 'посмотреть',\n",
       " 'не',\n",
       " 'посмотрите',\n",
       " 'ничего',\n",
       " 'не',\n",
       " 'потерять',\n",
       " 'из']"
      ]
     },
     "execution_count": 10,
     "metadata": {},
     "output_type": "execute_result"
    }
   ],
   "source": [
    "list_of_words[0][:-1]"
   ]
  },
  {
   "cell_type": "code",
   "execution_count": 11,
   "metadata": {},
   "outputs": [],
   "source": [
    "reviews=list_of_words\n",
    "#occurence = Counter()\n",
    "occurence = {}\n",
    "for review in reviews:\n",
    "    for token in review[:-1]:\n",
    "        if token in occurence:\n",
    "            if review[-1] == -1:\n",
    "                occurence[token][0][0] += 1\n",
    "            if review[-1] == 0:\n",
    "                occurence[token][0][1] += 1\n",
    "            if review[-1] == 1:\n",
    "                occurence[token][0][2] += 1\n",
    "            occurence[token][1].add(review[-1])\n",
    "        else:\n",
    "            occurence[token] = list([[0, 0, 0], set()])"
   ]
  },
  {
   "cell_type": "code",
   "execution_count": 12,
   "metadata": {
    "id": "FW5d3jOKAwej"
   },
   "outputs": [],
   "source": [
    "bad_tokens = []\n",
    "for k in occurence:\n",
    "    if occurence[k][0][0] > 20000 and occurence[k][0][1] > 20000 and occurence[k][0][2] > 20000 and len(occurence[k][1]) == 3:\n",
    "        bad_tokens.append(k)"
   ]
  },
  {
   "cell_type": "code",
   "execution_count": 13,
   "metadata": {
    "colab": {
     "base_uri": "https://localhost:8080/"
    },
    "id": "XOnjTzL9Awej",
    "outputId": "9812e9b3-acd7-4ab4-a930-381d60a57126"
   },
   "outputs": [
    {
     "data": {
      "text/plain": [
       "35"
      ]
     },
     "execution_count": 13,
     "metadata": {},
     "output_type": "execute_result"
    }
   ],
   "source": [
    "len(bad_tokens)"
   ]
  },
  {
   "cell_type": "code",
   "execution_count": 14,
   "metadata": {
    "colab": {
     "base_uri": "https://localhost:8080/"
    },
    "id": "-T8eScgHAwek",
    "outputId": "2cd39d8a-b864-45f0-dc6d-ae9423b4bae5"
   },
   "outputs": [
    {
     "data": {
      "text/plain": [
       "['это',\n",
       " 'и',\n",
       " 'я',\n",
       " 'быть',\n",
       " 'один',\n",
       " 'как',\n",
       " 'не',\n",
       " 'то',\n",
       " 'на',\n",
       " 'из',\n",
       " 'в',\n",
       " 'от',\n",
       " 'но',\n",
       " 'все',\n",
       " 'за',\n",
       " 'так',\n",
       " 'а',\n",
       " 'бы',\n",
       " 'у',\n",
       " 'фильм',\n",
       " 'свой',\n",
       " 'он',\n",
       " 'что',\n",
       " 'она',\n",
       " 'же',\n",
       " 'к',\n",
       " 'они',\n",
       " 'тот',\n",
       " 'который',\n",
       " 'с',\n",
       " 'этот',\n",
       " 'такой',\n",
       " 'по',\n",
       " 'весь',\n",
       " 'о']"
      ]
     },
     "execution_count": 14,
     "metadata": {},
     "output_type": "execute_result"
    }
   ],
   "source": [
    "bad_tokens"
   ]
  },
  {
   "cell_type": "markdown",
   "metadata": {
    "id": "MvbqaAj8Awek"
   },
   "source": [
    "собсна сама модель"
   ]
  },
  {
   "cell_type": "code",
   "execution_count": 15,
   "metadata": {
    "id": "Y8hiB1wjAwek"
   },
   "outputs": [],
   "source": [
    "#stop_words = set(nltk.corpus.stopwords.words('russian'))\n",
    "#bad_tokens=set(bad_tokens)\n",
    "#stopword_set = bad_tokens.union(stop_words)\n",
    "\n",
    "SEED=43\n",
    "#len(stopword_set)"
   ]
  },
  {
   "cell_type": "code",
   "execution_count": 16,
   "metadata": {
    "id": "0FatDjQaAwek"
   },
   "outputs": [],
   "source": [
    "pipe = Pipeline([\n",
    "    (\n",
    "        'vectorizer',\n",
    "        TfidfVectorizer(\n",
    "            lowercase=True, ngram_range=(1,3), analyzer='word', token_pattern=\"[а-яё]+\",norm='l2',\n",
    "            stop_words=bad_tokens, min_df=8, max_df=0.8\n",
    "        )\n",
    "    ),\n",
    "    ('clf', SGDClassifier(random_state=SEED, loss='modified_huber', class_weight='balanced'))\n",
    "])\n",
    "#так вроде лучший результат"
   ]
  },
  {
   "cell_type": "code",
   "execution_count": 17,
   "metadata": {
    "id": "nP4aTV_yAwel"
   },
   "outputs": [],
   "source": [
    "x=data[\"lemmatized_review\"].values\n",
    "y=data[\"type\"].values"
   ]
  },
  {
   "cell_type": "code",
   "execution_count": 18,
   "metadata": {
    "id": "uzojxZEFAwel"
   },
   "outputs": [],
   "source": [
    "x_train, x_test, y_train, y_test = train_test_split(x, y, test_size=0.2, random_state=SEED)"
   ]
  },
  {
   "cell_type": "code",
   "execution_count": 19,
   "metadata": {
    "colab": {
     "base_uri": "https://localhost:8080/"
    },
    "id": "HUqRUWmDAwel",
    "outputId": "b6a67569-0aec-4503-ae8a-40e5cc697063"
   },
   "outputs": [
    {
     "data": {
      "text/plain": [
       "Pipeline(steps=[('vectorizer',\n",
       "                 TfidfVectorizer(max_df=0.8, min_df=8, ngram_range=(1, 3),\n",
       "                                 stop_words=['это', 'и', 'я', 'быть', 'один',\n",
       "                                             'как', 'не', 'то', 'на', 'из', 'в',\n",
       "                                             'от', 'но', 'все', 'за', 'так',\n",
       "                                             'а', 'бы', 'у', 'фильм', 'свой',\n",
       "                                             'он', 'что', 'она', 'же', 'к',\n",
       "                                             'они', 'тот', 'который', 'с', ...],\n",
       "                                 token_pattern='[а-яё]+')),\n",
       "                ('clf',\n",
       "                 SGDClassifier(class_weight='balanced', loss='modified_huber',\n",
       "                               random_state=43))])"
      ]
     },
     "execution_count": 19,
     "metadata": {},
     "output_type": "execute_result"
    }
   ],
   "source": [
    "pipe.fit(x_train, y_train)"
   ]
  },
  {
   "cell_type": "code",
   "execution_count": 20,
   "metadata": {
    "id": "mMPaxVubAwem"
   },
   "outputs": [],
   "source": [
    "test_predictions = pipe.predict(x_test)"
   ]
  },
  {
   "cell_type": "code",
   "execution_count": null,
   "metadata": {},
   "outputs": [],
   "source": []
  },
  {
   "cell_type": "code",
   "execution_count": null,
   "metadata": {},
   "outputs": [],
   "source": []
  },
  {
   "cell_type": "code",
   "execution_count": null,
   "metadata": {},
   "outputs": [],
   "source": []
  },
  {
   "cell_type": "code",
   "execution_count": null,
   "metadata": {},
   "outputs": [],
   "source": []
  },
  {
   "cell_type": "code",
   "execution_count": 122,
   "metadata": {
    "id": "MrFC7L6lbmM9"
   },
   "outputs": [],
   "source": [
    "vect=TfidfVectorizer(lowercase=True, ngram_range=(1,1), token_pattern=\"[а-яё]+\",norm='l2',\n",
    "                     stop_words=bad_tokens, min_df=10, max_df=0.8\n",
    "        )\n",
    "\n",
    "X_vect=vect.fit_transform(x_train)"
   ]
  },
  {
   "cell_type": "code",
   "execution_count": 124,
   "metadata": {},
   "outputs": [],
   "source": [
    "from sklearn.linear_model import LogisticRegression"
   ]
  },
  {
   "cell_type": "code",
   "execution_count": 125,
   "metadata": {},
   "outputs": [],
   "source": [
    "model = LogisticRegression(C=100,max_iter=1000000,multi_class='multinomial',)"
   ]
  },
  {
   "cell_type": "code",
   "execution_count": null,
   "metadata": {},
   "outputs": [],
   "source": [
    "model.fit(X_vect, y_train)"
   ]
  },
  {
   "cell_type": "code",
   "execution_count": null,
   "metadata": {},
   "outputs": [],
   "source": [
    "X_vect_test=vect.transform(x_test)"
   ]
  },
  {
   "cell_type": "code",
   "execution_count": null,
   "metadata": {},
   "outputs": [],
   "source": [
    "yy=model.predict(X_vect_test)"
   ]
  },
  {
   "cell_type": "code",
   "execution_count": null,
   "metadata": {},
   "outputs": [],
   "source": [
    "yy"
   ]
  },
  {
   "cell_type": "code",
   "execution_count": null,
   "metadata": {},
   "outputs": [],
   "source": [
    "balanced_accuracy_score(yy,y_test)"
   ]
  },
  {
   "cell_type": "markdown",
   "metadata": {
    "id": "cmcNHz7ReCUX"
   },
   "source": [
    "### Посмотрим на confusion_matrix"
   ]
  },
  {
   "cell_type": "code",
   "execution_count": 21,
   "metadata": {
    "colab": {
     "base_uri": "https://localhost:8080/"
    },
    "id": "BQpldNXAeFfq",
    "outputId": "68101ffd-3660-4eb7-9d1b-a07b4077476b"
   },
   "outputs": [
    {
     "data": {
      "text/plain": [
       "array([[ 2923,   465,   456],\n",
       "       [ 1048,  1517,  2244],\n",
       "       [  480,   990, 15536]], dtype=int64)"
      ]
     },
     "execution_count": 21,
     "metadata": {},
     "output_type": "execute_result"
    }
   ],
   "source": [
    "from sklearn.metrics import confusion_matrix\n",
    "m=confusion_matrix(y_true=y_test, y_pred=test_predictions)\n",
    "m"
   ]
  },
  {
   "cell_type": "markdown",
   "metadata": {
    "id": "wD_yYT-tb1SE"
   },
   "source": [
    "### Специальная метрика"
   ]
  },
  {
   "cell_type": "code",
   "execution_count": 22,
   "metadata": {
    "id": "hW151nDjAwem"
   },
   "outputs": [],
   "source": [
    "def special_metric(y_test,test_predictions):\n",
    "    mse=mean_squared_error(y_test,test_predictions)\n",
    "    return 1-0.25*mse\n",
    "    "
   ]
  },
  {
   "cell_type": "code",
   "execution_count": 23,
   "metadata": {
    "colab": {
     "base_uri": "https://localhost:8080/"
    },
    "id": "wJq3xecIb7dH",
    "outputId": "bc0f2d57-69d8-4e48-e4f4-040eb1e8c245"
   },
   "outputs": [
    {
     "data": {
      "text/plain": [
       "0.9172707432090105"
      ]
     },
     "execution_count": 23,
     "metadata": {},
     "output_type": "execute_result"
    }
   ],
   "source": [
    "special_metric(y_test, test_predictions)"
   ]
  },
  {
   "cell_type": "markdown",
   "metadata": {
    "id": "aFLEWY3Yd3qF"
   },
   "source": [
    "### balanced_accuracy_score"
   ]
  },
  {
   "cell_type": "code",
   "execution_count": 24,
   "metadata": {
    "colab": {
     "base_uri": "https://localhost:8080/"
    },
    "id": "NHK-y0lmAwen",
    "outputId": "089f6c08-569a-4e7a-a224-fc3e2c31129f"
   },
   "outputs": [
    {
     "data": {
      "text/plain": [
       "0.6730260865689993"
      ]
     },
     "execution_count": 24,
     "metadata": {},
     "output_type": "execute_result"
    }
   ],
   "source": [
    "balanced_accuracy_score(test_predictions,y_test)"
   ]
  },
  {
   "cell_type": "markdown",
   "metadata": {
    "id": "3-hCLlU6ennu"
   },
   "source": [
    "### accuracy_score"
   ]
  },
  {
   "cell_type": "code",
   "execution_count": 25,
   "metadata": {
    "colab": {
     "base_uri": "https://localhost:8080/"
    },
    "id": "_iiQ0-LRAweo",
    "outputId": "5d149b31-6e45-47fd-e3a9-f9b584203513"
   },
   "outputs": [
    {
     "data": {
      "text/plain": [
       "0.7785182587006508"
      ]
     },
     "execution_count": 25,
     "metadata": {},
     "output_type": "execute_result"
    }
   ],
   "source": [
    "accuracy_score(y_test, test_predictions)"
   ]
  },
  {
   "cell_type": "markdown",
   "metadata": {},
   "source": [
    "# Мера от Господинова"
   ]
  },
  {
   "cell_type": "code",
   "execution_count": 26,
   "metadata": {
    "id": "OT0ZOMJlAweo"
   },
   "outputs": [],
   "source": [
    "a1=m[0][0]\n",
    "a2=m[0][1]\n",
    "a3=m[0][2]\n",
    "b1=m[1][0]\n",
    "b2=m[1][1]\n",
    "b3=m[1][2]\n",
    "c1=m[2][0]\n",
    "c2=m[2][1]\n",
    "c3=m[2][2]"
   ]
  },
  {
   "cell_type": "code",
   "execution_count": 27,
   "metadata": {
    "id": "Q2cLZYWWAweo"
   },
   "outputs": [
    {
     "data": {
      "text/plain": [
       "0.751118631321677"
      ]
     },
     "execution_count": 27,
     "metadata": {},
     "output_type": "execute_result"
    }
   ],
   "source": [
    "(a1+b2+c3)/(a1+b2+c3+a2+b1+b3+c2+2*c1+2*a3)"
   ]
  },
  {
   "cell_type": "code",
   "execution_count": 28,
   "metadata": {
    "id": "aYCcFkGoAweo"
   },
   "outputs": [],
   "source": [
    "def our_precision(m):\n",
    "    a1, a2, a3, b1, b2, b3, c1, c2, c3 = m[0][0], m[0][1], m[0][2], m[1][0], m[1][1], m[1][2], m[2][0], m[2][1], m[2][2]\n",
    "    error = 0\n",
    "    return [c3/(c3+a3+b3), b2/(a2+c2+b2), a1/(a1+b1+c1)]"
   ]
  },
  {
   "cell_type": "code",
   "execution_count": 29,
   "metadata": {
    "id": "BdsmUaPKAwep"
   },
   "outputs": [
    {
     "name": "stdout",
     "output_type": "stream",
     "text": [
      "Precision для положительных отзывов:  0.8519412151787673\n",
      "Precision для нейтральных отзывов:  0.5104306864064603\n",
      "Precision для отрицательных отзывов:  0.6567063581217704\n"
     ]
    }
   ],
   "source": [
    "print(\"Precision для положительных отзывов: \", our_precision(m)[0])\n",
    "print(\"Precision для нейтральных отзывов: \", our_precision(m)[1])\n",
    "print(\"Precision для отрицательных отзывов: \", our_precision(m)[2])\n"
   ]
  },
  {
   "cell_type": "code",
   "execution_count": null,
   "metadata": {},
   "outputs": [],
   "source": []
  },
  {
   "cell_type": "code",
   "execution_count": 30,
   "metadata": {},
   "outputs": [],
   "source": [
    "def our_recall(m):\n",
    "    a1, a2, a3, b1, b2, b3, c1, c2, c3 = m[0][0], m[0][1], m[0][2], m[1][0], m[1][1], m[1][2], m[2][0], m[2][1], m[2][2]\n",
    "    error = 0\n",
    "    return [c3/(c3+c2+c1), b2/(b1+b2+b3),a1/(a1+a2+a3)]\n"
   ]
  },
  {
   "cell_type": "code",
   "execution_count": 31,
   "metadata": {},
   "outputs": [
    {
     "name": "stdout",
     "output_type": "stream",
     "text": [
      "Recall для положительных отзывов:  0.9135599200282253\n",
      "Recall для нейтральных отзывов:  0.3154501975462674\n",
      "Recall для отрицательных отзывов:  0.7604058272632674\n"
     ]
    }
   ],
   "source": [
    " \n",
    "print(\"Recall для положительных отзывов: \", our_recall(m)[0])\n",
    "print(\"Recall для нейтральных отзывов: \", our_recall(m)[1])\n",
    "print(\"Recall для отрицательных отзывов: \", our_recall(m)[2])"
   ]
  },
  {
   "cell_type": "code",
   "execution_count": 33,
   "metadata": {},
   "outputs": [],
   "source": [
    "def our_f1(pr,rec):\n",
    "    return 2*pr*rec/(pr+rec)"
   ]
  },
  {
   "cell_type": "code",
   "execution_count": 34,
   "metadata": {},
   "outputs": [
    {
     "name": "stdout",
     "output_type": "stream",
     "text": [
      "F1-score для положительных отзывов:  0.881675273821009\n",
      "F1-score для нейтральных отзывов:  0.3899241742706593\n",
      "F1-score для отрицательных отзывов:  0.7047619047619047\n"
     ]
    }
   ],
   "source": [
    "print(\"F1-score для положительных отзывов: \", our_f1(our_precision(m)[0],our_recall(m)[0]))\n",
    "print(\"F1-score для нейтральных отзывов: \", our_f1(our_precision(m)[1],our_recall(m)[1]))\n",
    "print(\"F1-score для отрицательных отзывов: \", our_f1(our_precision(m)[2],our_recall(m)[2]))"
   ]
  },
  {
   "cell_type": "code",
   "execution_count": null,
   "metadata": {},
   "outputs": [],
   "source": []
  },
  {
   "cell_type": "code",
   "execution_count": null,
   "metadata": {},
   "outputs": [],
   "source": []
  },
  {
   "cell_type": "code",
   "execution_count": 32,
   "metadata": {},
   "outputs": [
    {
     "ename": "ModuleNotFoundError",
     "evalue": "No module named 'lightgbm'",
     "output_type": "error",
     "traceback": [
      "\u001b[1;31m---------------------------------------------------------------------------\u001b[0m",
      "\u001b[1;31mModuleNotFoundError\u001b[0m                       Traceback (most recent call last)",
      "\u001b[1;32m<ipython-input-32-394610158cfb>\u001b[0m in \u001b[0;36m<module>\u001b[1;34m\u001b[0m\n\u001b[0;32m      1\u001b[0m \u001b[1;32mfrom\u001b[0m \u001b[0msklearn\u001b[0m\u001b[1;33m.\u001b[0m\u001b[0mensemble\u001b[0m \u001b[1;32mimport\u001b[0m \u001b[0mRandomForestClassifier\u001b[0m\u001b[1;33m,\u001b[0m \u001b[0mGradientBoostingClassifier\u001b[0m\u001b[1;33m\u001b[0m\u001b[1;33m\u001b[0m\u001b[0m\n\u001b[1;32m----> 2\u001b[1;33m \u001b[1;32mfrom\u001b[0m \u001b[0mlightgbm\u001b[0m \u001b[1;32mimport\u001b[0m \u001b[0mLGBMRegressor\u001b[0m\u001b[1;33m,\u001b[0m \u001b[0mLGBMClassifier\u001b[0m\u001b[1;33m\u001b[0m\u001b[1;33m\u001b[0m\u001b[0m\n\u001b[0m",
      "\u001b[1;31mModuleNotFoundError\u001b[0m: No module named 'lightgbm'"
     ]
    }
   ],
   "source": [
    "from sklearn.ensemble import RandomForestClassifier, GradientBoostingClassifier\n",
    "from lightgbm import LGBMRegressor, LGBMClassifier"
   ]
  },
  {
   "cell_type": "code",
   "execution_count": null,
   "metadata": {},
   "outputs": [],
   "source": []
  },
  {
   "cell_type": "code",
   "execution_count": null,
   "metadata": {},
   "outputs": [],
   "source": []
  },
  {
   "cell_type": "code",
   "execution_count": null,
   "metadata": {},
   "outputs": [],
   "source": []
  },
  {
   "cell_type": "code",
   "execution_count": null,
   "metadata": {},
   "outputs": [],
   "source": []
  },
  {
   "cell_type": "code",
   "execution_count": 8,
   "metadata": {},
   "outputs": [],
   "source": [
    "pipe = Pipeline([\n",
    "    (\n",
    "        'vectorizer',\n",
    "        TfidfVectorizer(\n",
    "            lowercase=True, ngram_range=(1,3), analyzer='word', token_pattern=\"[а-яё]+\",norm='l2',\n",
    "            stop_words=bad_tokens, min_df=10, max_df=0.8\n",
    "        )\n",
    "    ),\n",
    "    ('clf', LGBMClassifier(random_state=SEED, loss='modified_huber'))\n",
    "])\n",
    "#так вроде лучший результат"
   ]
  },
  {
   "cell_type": "code",
   "execution_count": 9,
   "metadata": {},
   "outputs": [],
   "source": [
    "x=data[\"lemmatized_review\"].values\n",
    "y=data[\"type\"].values"
   ]
  },
  {
   "cell_type": "code",
   "execution_count": 10,
   "metadata": {},
   "outputs": [],
   "source": [
    "x_train, x_test, y_train, y_test = train_test_split(x, y, test_size=0.2, random_state=SEED)"
   ]
  },
  {
   "cell_type": "code",
   "execution_count": 11,
   "metadata": {},
   "outputs": [
    {
     "name": "stdout",
     "output_type": "stream",
     "text": [
      "[LightGBM] [Warning] Unknown parameter: loss\n"
     ]
    },
    {
     "data": {
      "text/plain": [
       "Pipeline(steps=[('vectorizer',\n",
       "                 TfidfVectorizer(max_df=0.8, min_df=10, ngram_range=(1, 3),\n",
       "                                 stop_words={'а', 'бы', 'быть', 'в', 'весь',\n",
       "                                             'всё', 'же', 'за', 'и', 'из', 'к',\n",
       "                                             'как', 'который', 'на', 'не', 'но',\n",
       "                                             'о', 'один', 'он', 'она', 'они',\n",
       "                                             'от', 'по', 'с', 'свой', 'так',\n",
       "                                             'такой', 'то', 'тот', 'у', ...},\n",
       "                                 token_pattern='[а-яё]+')),\n",
       "                ('clf',\n",
       "                 LGBMClassifier(loss='modified_huber', random_state=43))])"
      ]
     },
     "execution_count": 11,
     "metadata": {},
     "output_type": "execute_result"
    }
   ],
   "source": [
    "pipe.fit(x_train, y_train)"
   ]
  },
  {
   "cell_type": "code",
   "execution_count": 12,
   "metadata": {},
   "outputs": [],
   "source": [
    "test_predictions = pipe.predict(x_test)"
   ]
  },
  {
   "cell_type": "code",
   "execution_count": 13,
   "metadata": {},
   "outputs": [
    {
     "data": {
      "text/plain": [
       "array([[ 2184,   386,  1274],\n",
       "       [  626,   936,  3247],\n",
       "       [  269,   415, 16322]], dtype=int64)"
      ]
     },
     "execution_count": 13,
     "metadata": {},
     "output_type": "execute_result"
    }
   ],
   "source": [
    "from sklearn.metrics import confusion_matrix\n",
    "m=confusion_matrix(y_true=y_test, y_pred=test_predictions)\n",
    "m"
   ]
  },
  {
   "cell_type": "code",
   "execution_count": 14,
   "metadata": {},
   "outputs": [],
   "source": [
    "a1=m[0][0]\n",
    "a2=m[0][1]\n",
    "a3=m[0][2]\n",
    "b1=m[1][0]\n",
    "b2=m[1][1]\n",
    "b3=m[1][2]\n",
    "c1=m[2][0]\n",
    "c2=m[2][1]\n",
    "c3=m[2][2]"
   ]
  },
  {
   "cell_type": "code",
   "execution_count": 15,
   "metadata": {},
   "outputs": [
    {
     "data": {
      "text/plain": [
       "0.7147268583192412"
      ]
     },
     "execution_count": 15,
     "metadata": {},
     "output_type": "execute_result"
    }
   ],
   "source": [
    "(a1+b2+c3)/(a1+b2+c3+a2+b1+b3+c2+2*c1+2*a3)"
   ]
  },
  {
   "cell_type": "code",
   "execution_count": 16,
   "metadata": {},
   "outputs": [],
   "source": [
    "def our_precision(m):\n",
    "    a1, a2, a3, b1, b2, b3, c1, c2, c3 = m[0][0], m[0][1], m[0][2], m[1][0], m[1][1], m[1][2], m[2][0], m[2][1], m[2][2]\n",
    "    error = 0\n",
    "    return [c3/(c3+a3+b3), b2/(a2+c2+b2), a1/(a1+b1+c1)]"
   ]
  },
  {
   "cell_type": "code",
   "execution_count": 17,
   "metadata": {},
   "outputs": [
    {
     "name": "stdout",
     "output_type": "stream",
     "text": [
      "Precision для положительных отзывов:  0.7830926450127141\n",
      "Precision для нейтральных отзывов:  0.538860103626943\n",
      "Precision для отрицательных отзывов:  0.7093212081844755\n"
     ]
    }
   ],
   "source": [
    "print(\"Precision для положительных отзывов: \", our_precision(m)[0])\n",
    "print(\"Precision для нейтральных отзывов: \", our_precision(m)[1])\n",
    "print(\"Precision для отрицательных отзывов: \", our_precision(m)[2])"
   ]
  },
  {
   "cell_type": "code",
   "execution_count": 18,
   "metadata": {},
   "outputs": [],
   "source": [
    "def our_recall(m):\n",
    "    a1, a2, a3, b1, b2, b3, c1, c2, c3 = m[0][0], m[0][1], m[0][2], m[1][0], m[1][1], m[1][2], m[2][0], m[2][1], m[2][2]\n",
    "    error = 0\n",
    "    return [c3/(c3+c2+c1), b2/(b1+b2+b3),a1/(a1+a2+a3)]"
   ]
  },
  {
   "cell_type": "code",
   "execution_count": 19,
   "metadata": {},
   "outputs": [
    {
     "name": "stdout",
     "output_type": "stream",
     "text": [
      "Recall для положительных отзывов:  0.9597789015641538\n",
      "Recall для нейтральных отзывов:  0.19463505926388022\n",
      "Recall для отрицательных отзывов:  0.5681581685744017\n"
     ]
    }
   ],
   "source": [
    " \n",
    "print(\"Recall для положительных отзывов: \", our_recall(m)[0])\n",
    "print(\"Recall для нейтральных отзывов: \", our_recall(m)[1])\n",
    "print(\"Recall для отрицательных отзывов: \", our_recall(m)[2])"
   ]
  },
  {
   "cell_type": "code",
   "execution_count": null,
   "metadata": {},
   "outputs": [],
   "source": []
  }
 ],
 "metadata": {
  "colab": {
   "collapsed_sections": [],
   "name": "Try1.ipynb",
   "provenance": []
  },
  "kernelspec": {
   "display_name": "Python 3",
   "language": "python",
   "name": "python3"
  },
  "language_info": {
   "codemirror_mode": {
    "name": "ipython",
    "version": 3
   },
   "file_extension": ".py",
   "mimetype": "text/x-python",
   "name": "python",
   "nbconvert_exporter": "python",
   "pygments_lexer": "ipython3",
   "version": "3.8.6"
  }
 },
 "nbformat": 4,
 "nbformat_minor": 1
}
