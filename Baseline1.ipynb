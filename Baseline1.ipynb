{
 "cells": [
  {
   "cell_type": "code",
   "execution_count": 1,
   "metadata": {},
   "outputs": [],
   "source": [
    "import pandas as pd\n",
    "import matplotlib.pyplot as plt\n",
    "import numpy as np\n",
    "plt.style.use('ggplot')\n",
    "\n",
    "from sklearn.model_selection import train_test_split\n",
    "from sklearn.preprocessing  import LabelEncoder\n",
    "from sklearn.feature_extraction.text import TfidfVectorizer,CountVectorizer\n",
    "from sklearn.linear_model import SGDClassifier\n",
    "from sklearn.pipeline import Pipeline\n",
    "from sklearn.metrics import balanced_accuracy_score, accuracy_score\n",
    "from collections import Counter\n",
    "import re\n",
    "import nltk\n",
    "import pymorphy2\n",
    "from ast import literal_eval\n",
    "#import gensim"
   ]
  },
  {
   "cell_type": "code",
   "execution_count": 2,
   "metadata": {},
   "outputs": [
    {
     "data": {
      "text/html": [
       "<div>\n",
       "<style scoped>\n",
       "    .dataframe tbody tr th:only-of-type {\n",
       "        vertical-align: middle;\n",
       "    }\n",
       "\n",
       "    .dataframe tbody tr th {\n",
       "        vertical-align: top;\n",
       "    }\n",
       "\n",
       "    .dataframe thead th {\n",
       "        text-align: right;\n",
       "    }\n",
       "</style>\n",
       "<table border=\"1\" class=\"dataframe\">\n",
       "  <thead>\n",
       "    <tr style=\"text-align: right;\">\n",
       "      <th></th>\n",
       "      <th>review</th>\n",
       "      <th>type</th>\n",
       "    </tr>\n",
       "  </thead>\n",
       "  <tbody>\n",
       "    <tr>\n",
       "      <th>0</th>\n",
       "      <td>Это моё мнение и мне без разницы сколько будет...</td>\n",
       "      <td>1</td>\n",
       "    </tr>\n",
       "    <tr>\n",
       "      <th>1</th>\n",
       "      <td>Вполне неплохое шоу, выгодно отличающееся от б...</td>\n",
       "      <td>1</td>\n",
       "    </tr>\n",
       "    <tr>\n",
       "      <th>2</th>\n",
       "      <td>Уж кто-кто, а российские специалисты 'умеют' с...</td>\n",
       "      <td>0</td>\n",
       "    </tr>\n",
       "    <tr>\n",
       "      <th>3</th>\n",
       "      <td>Нью-йоркский маргинал и, по совместительству –...</td>\n",
       "      <td>1</td>\n",
       "    </tr>\n",
       "    <tr>\n",
       "      <th>4</th>\n",
       "      <td>Есть такая категория фильмов, которые построен...</td>\n",
       "      <td>1</td>\n",
       "    </tr>\n",
       "    <tr>\n",
       "      <th>...</th>\n",
       "      <td>...</td>\n",
       "      <td>...</td>\n",
       "    </tr>\n",
       "    <tr>\n",
       "      <th>131664</th>\n",
       "      <td>Придя из кинотеатра, необходимо было переварит...</td>\n",
       "      <td>1</td>\n",
       "    </tr>\n",
       "    <tr>\n",
       "      <th>131665</th>\n",
       "      <td>Молодой парень Адонис Джонсон вырос в приёмной...</td>\n",
       "      <td>0</td>\n",
       "    </tr>\n",
       "    <tr>\n",
       "      <th>131666</th>\n",
       "      <td>На дворе 21 век. Мировой кинематограф заражён ...</td>\n",
       "      <td>-1</td>\n",
       "    </tr>\n",
       "    <tr>\n",
       "      <th>131667</th>\n",
       "      <td>Ну и ничего, что 70 % времени уделено молодому...</td>\n",
       "      <td>1</td>\n",
       "    </tr>\n",
       "    <tr>\n",
       "      <th>131668</th>\n",
       "      <td>К завязке не имею никаких претензий, пусть и с...</td>\n",
       "      <td>0</td>\n",
       "    </tr>\n",
       "  </tbody>\n",
       "</table>\n",
       "<p>131669 rows × 2 columns</p>\n",
       "</div>"
      ],
      "text/plain": [
       "                                                   review  type\n",
       "0       Это моё мнение и мне без разницы сколько будет...     1\n",
       "1       Вполне неплохое шоу, выгодно отличающееся от б...     1\n",
       "2       Уж кто-кто, а российские специалисты 'умеют' с...     0\n",
       "3       Нью-йоркский маргинал и, по совместительству –...     1\n",
       "4       Есть такая категория фильмов, которые построен...     1\n",
       "...                                                   ...   ...\n",
       "131664  Придя из кинотеатра, необходимо было переварит...     1\n",
       "131665  Молодой парень Адонис Джонсон вырос в приёмной...     0\n",
       "131666  На дворе 21 век. Мировой кинематограф заражён ...    -1\n",
       "131667  Ну и ничего, что 70 % времени уделено молодому...     1\n",
       "131668  К завязке не имею никаких претензий, пусть и с...     0\n",
       "\n",
       "[131669 rows x 2 columns]"
      ]
     },
     "execution_count": 2,
     "metadata": {},
     "output_type": "execute_result"
    }
   ],
   "source": [
    "data=pd.read_csv(\"kinopoisk.csv\")\n",
    "data"
   ]
  },
  {
   "cell_type": "code",
   "execution_count": 3,
   "metadata": {},
   "outputs": [
    {
     "data": {
      "text/plain": [
       " 1    87138\n",
       " 0    24704\n",
       "-1    19827\n",
       "Name: type, dtype: int64"
      ]
     },
     "execution_count": 3,
     "metadata": {},
     "output_type": "execute_result"
    }
   ],
   "source": [
    "data[\"type\"].value_counts()"
   ]
  },
  {
   "cell_type": "code",
   "execution_count": 4,
   "metadata": {},
   "outputs": [
    {
     "data": {
      "image/png": "[encoded data removed]",
      "text/plain": [
       "<Figure size 432x288 with 1 Axes>"
      ]
     },
     "metadata": {},
     "output_type": "display_data"
    }
   ],
   "source": [
    "data.review.str.len().hist(bins=200);"
   ]
  },
  {
   "cell_type": "markdown",
   "metadata": {},
   "source": [
    "Отличаются ли рецензии разной тональности длиной?"
   ]
  },
  {
   "cell_type": "code",
   "execution_count": 5,
   "metadata": {},
   "outputs": [
    {
     "data": {
      "text/plain": [
       "<AxesSubplot:>"
      ]
     },
     "execution_count": 5,
     "metadata": {},
     "output_type": "execute_result"
    },
    {
     "data": {
      "image/png": "[encoded data removed]",
      "text/plain": [
       "<Figure size 432x288 with 1 Axes>"
      ]
     },
     "metadata": {},
     "output_type": "display_data"
    }
   ],
   "source": [
    "pos_data=data[data[\"type\"]==1]\n",
    "pos_data.review.str.len().hist(bins=200)"
   ]
  },
  {
   "cell_type": "code",
   "execution_count": 6,
   "metadata": {},
   "outputs": [
    {
     "data": {
      "text/plain": [
       "<AxesSubplot:>"
      ]
     },
     "execution_count": 6,
     "metadata": {},
     "output_type": "execute_result"
    },
    {
     "data": {
      "image/png": "[encoded data removed]",
      "text/plain": [
       "<Figure size 432x288 with 1 Axes>"
      ]
     },
     "metadata": {},
     "output_type": "display_data"
    }
   ],
   "source": [
    "neu_data=data[data[\"type\"]==0]\n",
    "neu_data.review.str.len().hist(bins=200)"
   ]
  },
  {
   "cell_type": "code",
   "execution_count": 7,
   "metadata": {
    "scrolled": true
   },
   "outputs": [
    {
     "data": {
      "text/plain": [
       "<AxesSubplot:>"
      ]
     },
     "execution_count": 7,
     "metadata": {},
     "output_type": "execute_result"
    },
    {
     "data": {
      "image/png": "[encoded data removed]",
      "text/plain": [
       "<Figure size 432x288 with 1 Axes>"
      ]
     },
     "metadata": {},
     "output_type": "display_data"
    }
   ],
   "source": [
    "neg_data=data[data[\"type\"]==-1]\n",
    "neg_data.review.str.len().hist(bins=200)"
   ]
  },
  {
   "cell_type": "markdown",
   "metadata": {},
   "source": [
    "Посмотрим на самые частые слова/сочетания слов."
   ]
  },
  {
   "cell_type": "code",
   "execution_count": 8,
   "metadata": {},
   "outputs": [],
   "source": [
    "pipe = Pipeline([\n",
    "    (\n",
    "        'vectorizer',\n",
    "        CountVectorizer(\n",
    "            lowercase=True, ngram_range=(1, 1), token_pattern=\"[а-яё]+\",\n",
    "            min_df=3, max_df=0.7\n",
    "        )\n",
    "    ),\n",
    "    ('clf', SGDClassifier(random_state=43, loss='log', class_weight='balanced'))\n",
    "])"
   ]
  },
  {
   "cell_type": "code",
   "execution_count": 9,
   "metadata": {},
   "outputs": [],
   "source": [
    "x=data[\"review\"].values\n",
    "y=data[\"type\"].values"
   ]
  },
  {
   "cell_type": "code",
   "execution_count": 10,
   "metadata": {},
   "outputs": [],
   "source": [
    "x_train, x_test, y_train, y_test = train_test_split(x, y, test_size=0.3, random_state=43)"
   ]
  },
  {
   "cell_type": "code",
   "execution_count": 11,
   "metadata": {},
   "outputs": [
    {
     "data": {
      "text/plain": [
       "Pipeline(steps=[('vectorizer',\n",
       "                 CountVectorizer(max_df=0.7, min_df=3,\n",
       "                                 token_pattern='[а-яё]+')),\n",
       "                ('clf',\n",
       "                 SGDClassifier(class_weight='balanced', loss='log',\n",
       "                               random_state=43))])"
      ]
     },
     "execution_count": 11,
     "metadata": {},
     "output_type": "execute_result"
    }
   ],
   "source": [
    "pipe.fit(x_train, y_train)"
   ]
  },
  {
   "cell_type": "code",
   "execution_count": 12,
   "metadata": {},
   "outputs": [],
   "source": [
    "test_predictions = pipe.predict(x_test)"
   ]
  },
  {
   "cell_type": "code",
   "execution_count": 14,
   "metadata": {},
   "outputs": [
    {
     "data": {
      "text/plain": [
       "array([[ 3529,  1484,   879],\n",
       "       [ 1209,  2854,  3350],\n",
       "       [  651,  3010, 22535]], dtype=int64)"
      ]
     },
     "execution_count": 14,
     "metadata": {},
     "output_type": "execute_result"
    }
   ],
   "source": [
    "from sklearn.metrics import confusion_matrix\n",
    "m=confusion_matrix(y_true=y_test, y_pred=test_predictions)\n",
    "m"
   ]
  },
  {
   "cell_type": "code",
   "execution_count": 15,
   "metadata": {},
   "outputs": [],
   "source": [
    "def our_precision(m):\n",
    "    a1, a2, a3, b1, b2, b3, c1, c2, c3 = m[0][0], m[0][1], m[0][2], m[1][0], m[1][1], m[1][2], m[2][0], m[2][1], m[2][2]\n",
    "    error = 0\n",
    "    return [c3/(c3+a3+b3), b2/(a2+c2+b2), a1/(a1+b1+c1)]\n"
   ]
  },
  {
   "cell_type": "code",
   "execution_count": 16,
   "metadata": {},
   "outputs": [
    {
     "name": "stdout",
     "output_type": "stream",
     "text": [
      "Precision для положительных отзывов:  0.8419892392766403\n",
      "Precision для нейтральных отзывов:  0.38840500816548723\n",
      "Precision для отрицательных отзывов:  0.6548524772685099\n"
     ]
    }
   ],
   "source": [
    "print(\"Precision для положительных отзывов: \", our_precision(m)[0])\n",
    "print(\"Precision для нейтральных отзывов: \", our_precision(m)[1])\n",
    "print(\"Precision для отрицательных отзывов: \", our_precision(m)[2])"
   ]
  },
  {
   "cell_type": "code",
   "execution_count": 17,
   "metadata": {},
   "outputs": [],
   "source": [
    "def our_recall(m):\n",
    "    a1, a2, a3, b1, b2, b3, c1, c2, c3 = m[0][0], m[0][1], m[0][2], m[1][0], m[1][1], m[1][2], m[2][0], m[2][1], m[2][2]\n",
    "    error = 0\n",
    "    return [c3/(c3+c2+c1), b2/(b1+b2+b3),a1/(a1+a2+a3)]"
   ]
  },
  {
   "cell_type": "code",
   "execution_count": 18,
   "metadata": {},
   "outputs": [
    {
     "name": "stdout",
     "output_type": "stream",
     "text": [
      "Recall для положительных отзывов:  0.8602458390593983\n",
      "Recall для нейтральных отзывов:  0.38499932550924054\n",
      "Recall для отрицательных отзывов:  0.5989477257298031\n"
     ]
    }
   ],
   "source": [
    " \n",
    "print(\"Recall для положительных отзывов: \", our_recall(m)[0])\n",
    "print(\"Recall для нейтральных отзывов: \", our_recall(m)[1])\n",
    "print(\"Recall для отрицательных отзывов: \", our_recall(m)[2])"
   ]
  },
  {
   "cell_type": "code",
   "execution_count": 19,
   "metadata": {},
   "outputs": [],
   "source": [
    "def our_F1score(m):\n",
    "    a1, a2, a3, b1, b2, b3, c1, c2, c3 = m[0][0], m[0][1], m[0][2], m[1][0], m[1][1], m[1][2], m[2][0], m[2][1], m[2][2]\n",
    "    error = 0\n",
    "    return [2*((our_precision(m)[0] * our_recall(m)[0])/(our_precision(m)[0] + our_recall(m)[0])), 2*((our_precision(m)[2] * our_recall(m)[2])/(our_precision(m)[2] + our_recall(m)[2])), 2*((our_precision(m)[1] * our_recall(m)[1])/(our_precision(m)[1] + our_recall(m)[1]))]"
   ]
  },
  {
   "cell_type": "code",
   "execution_count": 20,
   "metadata": {},
   "outputs": [
    {
     "name": "stdout",
     "output_type": "stream",
     "text": [
      "F1score для положительных отзывов:  0.8510196374622357\n",
      "F1score для нейтральных отзывов:  0.6256537540998138\n",
      "F1score для отрицательных отзывов:  0.38669466838290084\n"
     ]
    }
   ],
   "source": [
    "print(\"F1score для положительных отзывов: \", our_F1score(m)[0])\n",
    "print(\"F1score для нейтральных отзывов: \", our_F1score(m)[1])\n",
    "print(\"F1score для отрицательных отзывов: \", our_F1score(m)[2])"
   ]
  },
  {
   "cell_type": "code",
   "execution_count": 22,
   "metadata": {},
   "outputs": [],
   "source": [
    "a1=m[0][0]\n",
    "a2=m[0][1]\n",
    "a3=m[0][2]\n",
    "b1=m[1][0]\n",
    "b2=m[1][1]\n",
    "b3=m[1][2]\n",
    "c1=m[2][0]\n",
    "c2=m[2][1]\n",
    "c3=m[2][2]"
   ]
  },
  {
   "cell_type": "code",
   "execution_count": 23,
   "metadata": {},
   "outputs": [
    {
     "data": {
      "text/plain": [
       "0.7047841875654992"
      ]
     },
     "execution_count": 23,
     "metadata": {},
     "output_type": "execute_result"
    }
   ],
   "source": [
    "(a1+b2+c3)/(a1+b2+c3+a2+b1+b3+c2+2*c1+2*a3)"
   ]
  },
  {
   "cell_type": "code",
   "execution_count": 24,
   "metadata": {},
   "outputs": [
    {
     "data": {
      "text/plain": [
       "0.6284155749035457"
      ]
     },
     "execution_count": 24,
     "metadata": {},
     "output_type": "execute_result"
    }
   ],
   "source": [
    "balanced_accuracy_score(test_predictions,y_test)"
   ]
  },
  {
   "cell_type": "code",
   "execution_count": null,
   "metadata": {},
   "outputs": [],
   "source": []
  },
  {
   "cell_type": "code",
   "execution_count": null,
   "metadata": {},
   "outputs": [],
   "source": []
  },
  {
   "cell_type": "code",
   "execution_count": null,
   "metadata": {},
   "outputs": [],
   "source": []
  },
  {
   "cell_type": "code",
   "execution_count": 33,
   "metadata": {},
   "outputs": [
    {
     "data": {
      "text/plain": [
       "0.617695134217287"
      ]
     },
     "execution_count": 33,
     "metadata": {},
     "output_type": "execute_result"
    }
   ],
   "source": [
    "balanced_accuracy_score(y_test, test_predictions)"
   ]
  },
  {
   "cell_type": "code",
   "execution_count": 34,
   "metadata": {},
   "outputs": [
    {
     "data": {
      "text/plain": [
       "array([[ 3951,  1133,   836],\n",
       "       [ 1561,  2336,  3484],\n",
       "       [  913,  2514, 22773]], dtype=int64)"
      ]
     },
     "execution_count": 34,
     "metadata": {},
     "output_type": "execute_result"
    }
   ],
   "source": [
    "from sklearn.metrics import confusion_matrix\n",
    "m=confusion_matrix(y_true=y_test, y_pred=test_predictions)\n",
    "m"
   ]
  },
  {
   "cell_type": "code",
   "execution_count": 39,
   "metadata": {},
   "outputs": [
    {
     "data": {
      "text/plain": [
       "0.7356775777828409"
      ]
     },
     "execution_count": 39,
     "metadata": {},
     "output_type": "execute_result"
    }
   ],
   "source": [
    "accuracy_score(y_test, test_predictions)"
   ]
  },
  {
   "cell_type": "code",
   "execution_count": null,
   "metadata": {},
   "outputs": [],
   "source": []
  }
 ],
 "metadata": {
  "kernelspec": {
   "display_name": "Python 3",
   "language": "python",
   "name": "python3"
  },
  "language_info": {
   "codemirror_mode": {
    "name": "ipython",
    "version": 3
   },
   "file_extension": ".py",
   "mimetype": "text/x-python",
   "name": "python",
   "nbconvert_exporter": "python",
   "pygments_lexer": "ipython3",
   "version": "3.8.6"
  }
 },
 "nbformat": 4,
 "nbformat_minor": 4
}
